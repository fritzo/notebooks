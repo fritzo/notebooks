{
 "cells": [
  {
   "cell_type": "markdown",
   "id": "35b5cf39",
   "metadata": {},
   "source": [
    "# Problems with Stable distribution MLE\n",
    "\n",
    "This relates to `mattw`'s [forum post](https://forum.pyro.ai/t/trouble-with-basic-parameter-estimation-with-the-stable-distribution/5567)."
   ]
  },
  {
   "cell_type": "code",
   "execution_count": 1,
   "id": "972d1378",
   "metadata": {},
   "outputs": [],
   "source": [
    "import matplotlib.pyplot as plt\n",
    "import torch\n",
    "import pyro\n",
    "import pyro.distributions as dist\n",
    "from pyro.distributions import constraints\n",
    "from pyro.infer import SVI, Trace_ELBO\n",
    "from pyro.infer.reparam import MinimalReparam\n",
    "from pyro.infer.autoguide import AutoNormal, AutoGaussian\n",
    "\n",
    "torch.set_default_dtype(torch.float64)\n",
    "pyro.set_rng_seed(20230928)"
   ]
  },
  {
   "cell_type": "code",
   "execution_count": 2,
   "id": "6726bd84",
   "metadata": {},
   "outputs": [],
   "source": [
    "# Define true parameters and number of datapoints\n",
    "alpha = 1.4\n",
    "beta = 0.8\n",
    "c = 1.1\n",
    "mu = 3\n",
    "n = 10000\n",
    "\n",
    "# sample data\n",
    "data = dist.Stable(alpha, beta, c, mu).sample((n,))"
   ]
  },
  {
   "cell_type": "markdown",
   "id": "304f5567",
   "metadata": {},
   "source": [
    "What does the data look like?"
   ]
  },
  {
   "cell_type": "code",
   "execution_count": 3,
   "id": "48ffdc42",
   "metadata": {},
   "outputs": [
    {
     "data": {
      "image/png": "[encoded data removed]",
      "text/plain": [
       "<Figure size 432x288 with 1 Axes>"
      ]
     },
     "metadata": {
      "needs_background": "light"
     },
     "output_type": "display_data"
    }
   ],
   "source": [
    "plt.plot(data.cumsum(0).numpy());"
   ]
  },
  {
   "cell_type": "markdown",
   "id": "4cb81a61",
   "metadata": {},
   "source": [
    "or subtracting the trend:"
   ]
  },
  {
   "cell_type": "code",
   "execution_count": 4,
   "id": "6b3b10f9",
   "metadata": {},
   "outputs": [
    {
     "data": {
      "image/png": "[encoded data removed]",
      "text/plain": [
       "<Figure size 432x288 with 1 Axes>"
      ]
     },
     "metadata": {
      "needs_background": "light"
     },
     "output_type": "display_data"
    }
   ],
   "source": [
    "plt.plot((data - data.mean()).cumsum(0).numpy());"
   ]
  },
  {
   "cell_type": "markdown",
   "id": "ab0a1e00",
   "metadata": {},
   "source": [
    "Define a simple model. Note `MinimalReparam` introduces four auxiliary latent variables."
   ]
  },
  {
   "cell_type": "code",
   "execution_count": 5,
   "id": "daa7b384",
   "metadata": {},
   "outputs": [],
   "source": [
    "@MinimalReparam()\n",
    "def model(data):    \n",
    "    alpha = pyro.param(\"alpha\", torch.tensor(1.99), constraint=constraints.interval(0, 2))\n",
    "    beta = pyro.param(\"beta\", torch.tensor(0.0), constraint=constraints.interval(-1, 1))\n",
    "    c = pyro.param(\"c\", torch.tensor(1.0), constraint=constraints.positive)\n",
    "    mu = pyro.param(\"mu\", torch.tensor(0.0), constraint=constraints.real)\n",
    "    with pyro.plate(\"data\", data.shape[0]):\n",
    "        pyro.sample(\"obs\", dist.Stable(alpha, beta, c, mu), obs=data)"
   ]
  },
  {
   "cell_type": "code",
   "execution_count": 6,
   "id": "14479bb3",
   "metadata": {},
   "outputs": [],
   "source": [
    "def train(model, guide, num_steps=2001, lr=0.02):\n",
    "    pyro.clear_param_store()\n",
    "    pyro.set_rng_seed(20230928)\n",
    "\n",
    "    # set up ELBO, and optimizer\n",
    "    elbo = Trace_ELBO()\n",
    "    elbo.loss(model, guide, data=data)\n",
    "    optim = pyro.optim.Adam({\"lr\": lr})\n",
    "    svi = SVI(model, guide, optim, loss=elbo)\n",
    "\n",
    "    # optimize\n",
    "    losses = []\n",
    "    for i in range(num_steps):\n",
    "        loss = svi.step(data) / data.numel()\n",
    "        losses.append(loss)\n",
    "        if i % 100 == 0:\n",
    "            print(f\"step {i} loss = {loss:0.6g}\")\n",
    "\n",
    "    print(f\"Parameter estimates (n = {n}):\")\n",
    "    print(f\"alpha: Estimate = {pyro.param('alpha')}, true = {alpha}\")\n",
    "    print(f\"beta: Estimate = {pyro.param('beta')}, true = {beta}\")\n",
    "    print(f\"c: Estimate = {pyro.param('c')}, true = {c}\")\n",
    "    print(f\"mu: Estimate = {pyro.param('mu')}, true = {mu}\")\n",
    "    return losses"
   ]
  },
  {
   "cell_type": "markdown",
   "id": "c9f214cd",
   "metadata": {},
   "source": [
    "First let's try fitting a diagonal `AutoNormal` guide."
   ]
  },
  {
   "cell_type": "code",
   "execution_count": 7,
   "id": "717f7cac",
   "metadata": {},
   "outputs": [
    {
     "name": "stdout",
     "output_type": "stream",
     "text": [
      "step 0 loss = 27.4389\n",
      "step 100 loss = 6.20426\n",
      "step 200 loss = 3.9673\n",
      "step 300 loss = 3.47429\n",
      "step 400 loss = 3.1424\n",
      "step 500 loss = 2.93223\n",
      "step 600 loss = 2.76516\n",
      "step 700 loss = 2.63051\n",
      "step 800 loss = 2.54689\n",
      "step 900 loss = 2.51148\n",
      "step 1000 loss = 2.50159\n",
      "step 1100 loss = 2.49952\n",
      "step 1200 loss = 2.49274\n",
      "step 1300 loss = 2.50508\n",
      "step 1400 loss = 2.49462\n",
      "step 1500 loss = 2.48225\n",
      "step 1600 loss = 2.48826\n",
      "step 1700 loss = 2.49166\n",
      "step 1800 loss = 2.49833\n",
      "step 1900 loss = 2.5059\n",
      "step 2000 loss = 2.50605\n",
      "Parameter estimates (n = 10000):\n",
      "alpha: Estimate = 1.5808823674323638, true = 1.4\n",
      "beta: Estimate = -0.0013091968632371609, true = 0.8\n",
      "c: Estimate = 1.2189916616873966, true = 1.1\n",
      "mu: Estimate = 3.349987673604992, true = 3\n"
     ]
    }
   ],
   "source": [
    "guide = AutoNormal(model)\n",
    "train(model, guide);"
   ]
  },
  {
   "cell_type": "markdown",
   "id": "81a40ab0",
   "metadata": {},
   "source": [
    "It looks like `beta` is especially way off."
   ]
  },
  {
   "cell_type": "markdown",
   "id": "f834f915",
   "metadata": {},
   "source": [
    "Next let's create a guide with correlations among the 4 auxiliary variables for each datum, but no correlations across the plate.  We'll use [easy_guide](https://pyro.ai/examples/easyguide.html)."
   ]
  },
  {
   "cell_type": "code",
   "execution_count": 8,
   "id": "af237fa8",
   "metadata": {},
   "outputs": [],
   "source": [
    "from pyro.contrib.easyguide import easy_guide\n",
    "\n",
    "@easy_guide(model)\n",
    "def guide2(self, data):\n",
    "    # Match all auxiliary variables introduced by StableReparam:\n",
    "    # https://github.com/pyro-ppl/pyro/blob/1.8.6/pyro/infer/reparam/stable.py#L194\n",
    "    group = self.group(match=\"obs_.*\")\n",
    "    assert group.event_shape == (4,)\n",
    "    d = group.event_shape.numel()\n",
    "    \n",
    "    # Use the same parametrization as in AutoMultivariateNormal, but batched.\n",
    "    loc = pyro.param(\"guide_loc\", lambda: torch.zeros(data.shape + (d,)))\n",
    "    scale = pyro.param(\"guide_scale\", lambda: torch.full_like(loc, 0.01),\n",
    "                       constraint=constraints.softplus_positive)\n",
    "    scale_tril = pyro.param(\n",
    "        \"guide_scale_tril\",\n",
    "        lambda: torch.eye(d) + torch.zeros(data.shape + (1, 1)),\n",
    "        constraint=constraints.unit_lower_cholesky)\n",
    "    scale_tril = scale[..., None] * scale_tril\n",
    "    mvn = dist.MultivariateNormal(loc, scale_tril=scale_tril)\n",
    "\n",
    "    with self.plate(\"data\", data.shape[0]):\n",
    "        group.sample(\"aux_vars\", mvn)"
   ]
  },
  {
   "cell_type": "code",
   "execution_count": 9,
   "id": "9f17efd1",
   "metadata": {},
   "outputs": [
    {
     "name": "stdout",
     "output_type": "stream",
     "text": [
      "step 0 loss = 36.6272\n",
      "step 100 loss = 13.8026\n",
      "step 200 loss = 6.68958\n",
      "step 300 loss = 3.94441\n",
      "step 400 loss = 3.26316\n",
      "step 500 loss = 3.03408\n",
      "step 600 loss = 2.8175\n",
      "step 700 loss = 2.67369\n",
      "step 800 loss = 2.60301\n",
      "step 900 loss = 2.55999\n",
      "step 1000 loss = 2.52772\n",
      "step 1100 loss = 2.52596\n",
      "step 1200 loss = 2.52203\n",
      "step 1300 loss = 2.52361\n",
      "step 1400 loss = 2.52335\n",
      "step 1500 loss = 2.49618\n",
      "step 1600 loss = 2.51197\n",
      "step 1700 loss = 2.52333\n",
      "step 1800 loss = 2.51975\n",
      "step 1900 loss = 2.53171\n",
      "step 2000 loss = 2.50771\n",
      "Parameter estimates (n = 10000):\n",
      "alpha: Estimate = 1.452168661974191, true = 1.4\n",
      "beta: Estimate = -0.0006795531391183829, true = 0.8\n",
      "c: Estimate = 1.171598434074417, true = 1.1\n",
      "mu: Estimate = 3.3039801341398025, true = 3\n"
     ]
    }
   ],
   "source": [
    "train(model, guide2);"
   ]
  },
  {
   "cell_type": "markdown",
   "id": "285b04b2",
   "metadata": {},
   "source": [
    "Hmm, this still doesn't fit very well."
   ]
  }
 ],
 "metadata": {
  "kernelspec": {
   "display_name": "Python 3 (ipykernel)",
   "language": "python",
   "name": "python3"
  },
  "language_info": {
   "codemirror_mode": {
    "name": "ipython",
    "version": 3
   },
   "file_extension": ".py",
   "mimetype": "text/x-python",
   "name": "python",
   "nbconvert_exporter": "python",
   "pygments_lexer": "ipython3",
   "version": "3.8.11"
  }
 },
 "nbformat": 4,
 "nbformat_minor": 5
}
