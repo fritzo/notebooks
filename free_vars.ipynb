{
 "cells": [
  {
   "cell_type": "code",
   "execution_count": 1,
   "metadata": {},
   "outputs": [],
   "source": [
    "import ast\n",
    "import functools\n",
    "import inspect\n",
    "import typing\n",
    "from funsor.syntax import decompile_def"
   ]
  },
  {
   "cell_type": "code",
   "execution_count": 3,
   "metadata": {},
   "outputs": [],
   "source": [
    "def f(x):\n",
    "    z = y\n",
    "    a, b = y, y\n",
    "    return a + b + x + y + z\n",
    "f.__closure__"
   ]
  },
  {
   "cell_type": "code",
   "execution_count": 4,
   "metadata": {},
   "outputs": [],
   "source": [
    "af = decompile_def(f)"
   ]
  },
  {
   "cell_type": "code",
   "execution_count": 5,
   "metadata": {},
   "outputs": [
    {
     "name": "stdout",
     "output_type": "stream",
     "text": [
      "Module(\n",
      "  body=[\n",
      "    FunctionDef(\n",
      "      name='f',\n",
      "      args=arguments(\n",
      "        posonlyargs=[],\n",
      "        args=[\n",
      "          arg(arg='x')],\n",
      "        kwonlyargs=[],\n",
      "        kw_defaults=[],\n",
      "        defaults=[]),\n",
      "      body=[\n",
      "        Assign(\n",
      "          targets=[\n",
      "            Name(id='z', ctx=Store())],\n",
      "          value=Name(id='y', ctx=Load())),\n",
      "        Assign(\n",
      "          targets=[\n",
      "            Tuple(\n",
      "              elts=[\n",
      "                Name(id='a', ctx=Store()),\n",
      "                Name(id='b', ctx=Store())],\n",
      "              ctx=Store())],\n",
      "          value=Tuple(\n",
      "            elts=[\n",
      "              Name(id='y', ctx=Load()),\n",
      "              Name(id='y', ctx=Load())],\n",
      "            ctx=Load())),\n",
      "        Return(\n",
      "          value=BinOp(\n",
      "            left=BinOp(\n",
      "              left=BinOp(\n",
      "                left=BinOp(\n",
      "                  left=Name(id='a', ctx=Load()),\n",
      "                  op=Add(),\n",
      "                  right=Name(id='b', ctx=Load())),\n",
      "                op=Add(),\n",
      "                right=Name(id='x', ctx=Load())),\n",
      "              op=Add(),\n",
      "              right=Name(id='y', ctx=Load())),\n",
      "            op=Add(),\n",
      "            right=Name(id='z', ctx=Load())))],\n",
      "      decorator_list=[])],\n",
      "  type_ignores=[])\n"
     ]
    }
   ],
   "source": [
    "print(ast.dump(af, indent=2))"
   ]
  },
  {
   "cell_type": "code",
   "execution_count": 6,
   "metadata": {},
   "outputs": [
    {
     "name": "stdout",
     "output_type": "stream",
     "text": [
      "Module(\n",
      "  body=[\n",
      "    Expr(\n",
      "      value=Lambda(\n",
      "        args=arguments(\n",
      "          posonlyargs=[],\n",
      "          args=[\n",
      "            arg(arg='x')],\n",
      "          kwonlyargs=[],\n",
      "          kw_defaults=[],\n",
      "          defaults=[]),\n",
      "        body=BinOp(\n",
      "          left=Name(id='x', ctx=Load()),\n",
      "          op=Add(),\n",
      "          right=Name(id='y', ctx=Load()))))],\n",
      "  type_ignores=[])\n"
     ]
    }
   ],
   "source": [
    "print(ast.dump(ast.parse(\"lambda x: x+y\"), indent=2))"
   ]
  },
  {
   "cell_type": "code",
   "execution_count": 7,
   "metadata": {},
   "outputs": [
    {
     "ename": "TypeError",
     "evalue": "g() missing 1 required positional argument: 'w'",
     "output_type": "error",
     "traceback": [
      "\u001b[0;31m---------------------------------------------------------------------------\u001b[0m",
      "\u001b[0;31mTypeError\u001b[0m                                 Traceback (most recent call last)",
      "\u001b[0;32m<ipython-input-7-fc5f586ab1bd>\u001b[0m in \u001b[0;36m<module>\u001b[0;34m\u001b[0m\n\u001b[1;32m     11\u001b[0m     \u001b[0mx\u001b[0m\u001b[0;34m:\u001b[0m \u001b[0mint\u001b[0m\u001b[0;34m\u001b[0m\u001b[0;34m\u001b[0m\u001b[0m\n\u001b[1;32m     12\u001b[0m \u001b[0;34m\u001b[0m\u001b[0m\n\u001b[0;32m---> 13\u001b[0;31m \u001b[0mg\u001b[0m\u001b[0;34m(\u001b[0m\u001b[0mf\u001b[0m\u001b[0;34m)\u001b[0m\u001b[0;34m\u001b[0m\u001b[0;34m\u001b[0m\u001b[0m\n\u001b[0m",
      "\u001b[0;31mTypeError\u001b[0m: g() missing 1 required positional argument: 'w'"
     ]
    }
   ],
   "source": [
    "def f(y):\n",
    "    z = y\n",
    "    return x + y + z\n",
    "\n",
    "def g(f, w):\n",
    "    x = 0\n",
    "    y = w\n",
    "    return f(y)\n",
    "\n",
    "def h():\n",
    "    x: int\n",
    "\n",
    "g(f)"
   ]
  },
  {
   "cell_type": "code",
   "execution_count": 8,
   "metadata": {},
   "outputs": [
    {
     "name": "stdout",
     "output_type": "stream",
     "text": [
      "f.__code__.\n",
      "  co_argcount = 1\n",
      "  co_cellvars = ()\n",
      "  co_code = b'|\\x00}\\x01t\\x00|\\x00\\x17\\x00|\\x01\\x17\\x00S\\x00'\n",
      "  co_consts = (None,)\n",
      "  co_filename = '<ipython-input-7-fc5f586ab1bd>'\n",
      "  co_firstlineno = 1\n",
      "  co_flags = 67\n",
      "  co_freevars = ()\n",
      "  co_kwonlyargcount = 0\n",
      "  co_lnotab = b'\\x00\\x01\\x04\\x01'\n",
      "  co_name = 'f'\n",
      "  co_names = ('x',)\n",
      "  co_nlocals = 2\n",
      "  co_posonlyargcount = 0\n",
      "  co_stacksize = 2\n",
      "  co_varnames = ('y', 'z')\n",
      "g.__code__.\n",
      "  co_argcount = 2\n",
      "  co_cellvars = ()\n",
      "  co_code = b'd\\x01}\\x02|\\x01}\\x03|\\x00|\\x03\\x83\\x01S\\x00'\n",
      "  co_consts = (None, 0)\n",
      "  co_filename = '<ipython-input-7-fc5f586ab1bd>'\n",
      "  co_firstlineno = 5\n",
      "  co_flags = 67\n",
      "  co_freevars = ()\n",
      "  co_kwonlyargcount = 0\n",
      "  co_lnotab = b'\\x00\\x01\\x04\\x01\\x04\\x01'\n",
      "  co_name = 'g'\n",
      "  co_names = ()\n",
      "  co_nlocals = 4\n",
      "  co_posonlyargcount = 0\n",
      "  co_stacksize = 2\n",
      "  co_varnames = ('f', 'w', 'x', 'y')\n",
      "h.__code__.\n",
      "  co_argcount = 0\n",
      "  co_cellvars = ()\n",
      "  co_code = b'd\\x00S\\x00'\n",
      "  co_consts = (None,)\n",
      "  co_filename = '<ipython-input-7-fc5f586ab1bd>'\n",
      "  co_firstlineno = 10\n",
      "  co_flags = 67\n",
      "  co_freevars = ()\n",
      "  co_kwonlyargcount = 0\n",
      "  co_lnotab = b'\\x00\\x01'\n",
      "  co_name = 'h'\n",
      "  co_names = ()\n",
      "  co_nlocals = 0\n",
      "  co_posonlyargcount = 0\n",
      "  co_stacksize = 1\n",
      "  co_varnames = ()\n"
     ]
    }
   ],
   "source": [
    "def inspect_code(f):\n",
    "    print(f\"{f.__name__}.__code__.\")\n",
    "    for k in dir(f.__code__):\n",
    "        if k.startswith(\"co_\"):\n",
    "            v = getattr(f.__code__, k)\n",
    "            print(f\"  {k} = {repr(v)}\")\n",
    "            \n",
    "inspect_code(f)\n",
    "inspect_code(g)\n",
    "inspect_code(h)"
   ]
  },
  {
   "cell_type": "code",
   "execution_count": 10,
   "metadata": {},
   "outputs": [
    {
     "data": {
      "text/plain": [
       "('__dict__',)"
      ]
     },
     "execution_count": 10,
     "metadata": {},
     "output_type": "execute_result"
    }
   ],
   "source": [
    "functools.WRAPPER_UPDATES"
   ]
  },
  {
   "cell_type": "code",
   "execution_count": 11,
   "metadata": {},
   "outputs": [
    {
     "data": {
      "text/plain": [
       "('__module__', '__name__', '__qualname__', '__doc__', '__annotations__')"
      ]
     },
     "execution_count": 11,
     "metadata": {},
     "output_type": "execute_result"
    }
   ],
   "source": [
    "functools.WRAPPER_ASSIGNMENTS"
   ]
  },
  {
   "cell_type": "code",
   "execution_count": 12,
   "metadata": {},
   "outputs": [
    {
     "data": {
      "text/plain": [
       "['__annotations__',\n",
       " '__call__',\n",
       " '__class__',\n",
       " '__closure__',\n",
       " '__code__',\n",
       " '__defaults__',\n",
       " '__delattr__',\n",
       " '__dict__',\n",
       " '__dir__',\n",
       " '__doc__',\n",
       " '__eq__',\n",
       " '__format__',\n",
       " '__ge__',\n",
       " '__get__',\n",
       " '__getattribute__',\n",
       " '__globals__',\n",
       " '__gt__',\n",
       " '__hash__',\n",
       " '__init__',\n",
       " '__init_subclass__',\n",
       " '__kwdefaults__',\n",
       " '__le__',\n",
       " '__lt__',\n",
       " '__module__',\n",
       " '__name__',\n",
       " '__ne__',\n",
       " '__new__',\n",
       " '__qualname__',\n",
       " '__reduce__',\n",
       " '__reduce_ex__',\n",
       " '__repr__',\n",
       " '__setattr__',\n",
       " '__sizeof__',\n",
       " '__str__',\n",
       " '__subclasshook__']"
      ]
     },
     "execution_count": 12,
     "metadata": {},
     "output_type": "execute_result"
    }
   ],
   "source": [
    "dir(f)"
   ]
  },
  {
   "cell_type": "code",
   "execution_count": 13,
   "metadata": {},
   "outputs": [],
   "source": [
    "f.__closure__"
   ]
  },
  {
   "cell_type": "code",
   "execution_count": 16,
   "metadata": {},
   "outputs": [
    {
     "data": {
      "text/plain": [
       "(<cell at 0x7fda85acbc40: int object at 0x7fda81d21930>,)"
      ]
     },
     "execution_count": 16,
     "metadata": {},
     "output_type": "execute_result"
    }
   ],
   "source": [
    "def outer():\n",
    "    x = 1\n",
    "    def inner():\n",
    "        return x\n",
    "    return inner\n",
    "\n",
    "inner = outer()\n",
    "inner.__closure__"
   ]
  },
  {
   "cell_type": "code",
   "execution_count": null,
   "metadata": {},
   "outputs": [],
   "source": []
  }
 ],
 "metadata": {
  "kernelspec": {
   "display_name": "Python 3",
   "language": "python",
   "name": "python3"
  },
  "language_info": {
   "codemirror_mode": {
    "name": "ipython",
    "version": 3
   },
   "file_extension": ".py",
   "mimetype": "text/x-python",
   "name": "python",
   "nbconvert_exporter": "python",
   "pygments_lexer": "ipython3",
   "version": "3.9.1"
  }
 },
 "nbformat": 4,
 "nbformat_minor": 4
}
