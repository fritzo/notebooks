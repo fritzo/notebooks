{
 "cells": [
  {
   "cell_type": "code",
   "execution_count": 1,
   "id": "3f840d13",
   "metadata": {},
   "outputs": [
    {
     "data": {
      "text/plain": [
       "(<cell at 0x11008c160: list object at 0x1100ae6c0>,)"
      ]
     },
     "execution_count": 1,
     "metadata": {},
     "output_type": "execute_result"
    }
   ],
   "source": [
    "def f():\n",
    "    x = []\n",
    "    def g():\n",
    "        return x\n",
    "    return g\n",
    "g = f()\n",
    "g.__closure__"
   ]
  },
  {
   "cell_type": "code",
   "execution_count": 2,
   "id": "74161997",
   "metadata": {},
   "outputs": [
    {
     "data": {
      "text/plain": [
       "['__class__',\n",
       " '__delattr__',\n",
       " '__dir__',\n",
       " '__doc__',\n",
       " '__eq__',\n",
       " '__format__',\n",
       " '__ge__',\n",
       " '__getattribute__',\n",
       " '__gt__',\n",
       " '__hash__',\n",
       " '__init__',\n",
       " '__init_subclass__',\n",
       " '__le__',\n",
       " '__lt__',\n",
       " '__ne__',\n",
       " '__new__',\n",
       " '__reduce__',\n",
       " '__reduce_ex__',\n",
       " '__repr__',\n",
       " '__setattr__',\n",
       " '__sizeof__',\n",
       " '__str__',\n",
       " '__subclasshook__',\n",
       " 'cell_contents']"
      ]
     },
     "execution_count": 2,
     "metadata": {},
     "output_type": "execute_result"
    }
   ],
   "source": [
    "x_cell = g.__closure__[0]\n",
    "dir(x_cell)"
   ]
  },
  {
   "cell_type": "code",
   "execution_count": 3,
   "id": "366e20a0",
   "metadata": {},
   "outputs": [
    {
     "data": {
      "text/plain": [
       "[]"
      ]
     },
     "execution_count": 3,
     "metadata": {},
     "output_type": "execute_result"
    }
   ],
   "source": [
    "x_cell.cell_contents"
   ]
  },
  {
   "cell_type": "code",
   "execution_count": 4,
   "id": "17028ed7",
   "metadata": {},
   "outputs": [
    {
     "data": {
      "text/plain": [
       "cell"
      ]
     },
     "execution_count": 4,
     "metadata": {},
     "output_type": "execute_result"
    }
   ],
   "source": [
    "type(x_cell)"
   ]
  },
  {
   "cell_type": "code",
   "execution_count": 5,
   "id": "cfe678ee",
   "metadata": {},
   "outputs": [
    {
     "data": {
      "text/plain": [
       "(<cell at 0x11008e4d0: empty>,)"
      ]
     },
     "execution_count": 5,
     "metadata": {},
     "output_type": "execute_result"
    }
   ],
   "source": [
    "def f():\n",
    "    x: list\n",
    "    def g():\n",
    "        return x\n",
    "    return g\n",
    "g = f()\n",
    "g.__closure__"
   ]
  },
  {
   "cell_type": "code",
   "execution_count": 6,
   "id": "ec644b97",
   "metadata": {},
   "outputs": [
    {
     "data": {
      "text/plain": [
       "['__class__',\n",
       " '__delattr__',\n",
       " '__dir__',\n",
       " '__doc__',\n",
       " '__eq__',\n",
       " '__format__',\n",
       " '__ge__',\n",
       " '__getattribute__',\n",
       " '__gt__',\n",
       " '__hash__',\n",
       " '__init__',\n",
       " '__init_subclass__',\n",
       " '__le__',\n",
       " '__lt__',\n",
       " '__ne__',\n",
       " '__new__',\n",
       " '__reduce__',\n",
       " '__reduce_ex__',\n",
       " '__repr__',\n",
       " '__setattr__',\n",
       " '__sizeof__',\n",
       " '__str__',\n",
       " '__subclasshook__',\n",
       " 'cell_contents']"
      ]
     },
     "execution_count": 6,
     "metadata": {},
     "output_type": "execute_result"
    }
   ],
   "source": [
    "dir(g.__closure__[0])"
   ]
  },
  {
   "cell_type": "code",
   "execution_count": 7,
   "id": "0dd0daf7",
   "metadata": {},
   "outputs": [],
   "source": [
    "def f():\n",
    "    x: list\n",
    "    def g():\n",
    "        y: int\n",
    "        return __annotations__\n",
    "    return g\n",
    "g = f()\n",
    "g.__closure__"
   ]
  },
  {
   "cell_type": "code",
   "execution_count": 8,
   "id": "1255f8e3",
   "metadata": {},
   "outputs": [
    {
     "ename": "NameError",
     "evalue": "name '__annotations__' is not defined",
     "output_type": "error",
     "traceback": [
      "\u001b[0;31m---------------------------------------------------------------------------\u001b[0m",
      "\u001b[0;31mNameError\u001b[0m                                 Traceback (most recent call last)",
      "Cell \u001b[0;32mIn[8], line 1\u001b[0m\n\u001b[0;32m----> 1\u001b[0m \u001b[43mg\u001b[49m\u001b[43m(\u001b[49m\u001b[43m)\u001b[49m\n",
      "Cell \u001b[0;32mIn[7], line 5\u001b[0m, in \u001b[0;36mf.<locals>.g\u001b[0;34m()\u001b[0m\n\u001b[1;32m      3\u001b[0m \u001b[38;5;28;01mdef\u001b[39;00m \u001b[38;5;21mg\u001b[39m():\n\u001b[1;32m      4\u001b[0m     y: \u001b[38;5;28mint\u001b[39m\n\u001b[0;32m----> 5\u001b[0m     \u001b[38;5;28;01mreturn\u001b[39;00m \u001b[38;5;18;43m__annotations__\u001b[39;49m\n",
      "\u001b[0;31mNameError\u001b[0m: name '__annotations__' is not defined"
     ]
    }
   ],
   "source": [
    "g()"
   ]
  },
  {
   "cell_type": "code",
   "execution_count": 9,
   "id": "0b121f02",
   "metadata": {},
   "outputs": [
    {
     "ename": "NameError",
     "evalue": "name '__annotations__' is not defined",
     "output_type": "error",
     "traceback": [
      "\u001b[0;31m---------------------------------------------------------------------------\u001b[0m",
      "\u001b[0;31mNameError\u001b[0m                                 Traceback (most recent call last)",
      "Cell \u001b[0;32mIn[9], line 4\u001b[0m\n\u001b[1;32m      2\u001b[0m     x: \u001b[38;5;28mint\u001b[39m\n\u001b[1;32m      3\u001b[0m     \u001b[38;5;28;01mreturn\u001b[39;00m \u001b[38;5;18m__annotations__\u001b[39m\n\u001b[0;32m----> 4\u001b[0m \u001b[43mf\u001b[49m\u001b[43m(\u001b[49m\u001b[43m)\u001b[49m\n",
      "Cell \u001b[0;32mIn[9], line 3\u001b[0m, in \u001b[0;36mf\u001b[0;34m()\u001b[0m\n\u001b[1;32m      1\u001b[0m \u001b[38;5;28;01mdef\u001b[39;00m \u001b[38;5;21mf\u001b[39m():\n\u001b[1;32m      2\u001b[0m     x: \u001b[38;5;28mint\u001b[39m\n\u001b[0;32m----> 3\u001b[0m     \u001b[38;5;28;01mreturn\u001b[39;00m \u001b[38;5;18;43m__annotations__\u001b[39;49m\n",
      "\u001b[0;31mNameError\u001b[0m: name '__annotations__' is not defined"
     ]
    }
   ],
   "source": [
    "def f():\n",
    "    x: int\n",
    "    return __annotations__\n",
    "f()"
   ]
  },
  {
   "cell_type": "code",
   "execution_count": 12,
   "id": "b79af0bf",
   "metadata": {},
   "outputs": [
    {
     "name": "stdout",
     "output_type": "stream",
     "text": [
      "[]\n"
     ]
    }
   ],
   "source": [
    "def f():\n",
    "    x: int\n",
    "    print(dir())\n",
    "f()"
   ]
  },
  {
   "cell_type": "code",
   "execution_count": 15,
   "id": "cb56705d",
   "metadata": {},
   "outputs": [
    {
     "name": "stdout",
     "output_type": "stream",
     "text": [
      "['x']\n"
     ]
    }
   ],
   "source": [
    "def f():\n",
    "    x: int = 0\n",
    "    print(dir())\n",
    "f()"
   ]
  },
  {
   "cell_type": "markdown",
   "id": "009466b6",
   "metadata": {},
   "source": [
    "See https://stackoverflow.com/questions/66582819/how-to-get-type-annotation-within-python-function-scope"
   ]
  }
 ],
 "metadata": {
  "kernelspec": {
   "display_name": "Python 3 (ipykernel)",
   "language": "python",
   "name": "python3"
  },
  "language_info": {
   "codemirror_mode": {
    "name": "ipython",
    "version": 3
   },
   "file_extension": ".py",
   "mimetype": "text/x-python",
   "name": "python",
   "nbconvert_exporter": "python",
   "pygments_lexer": "ipython3",
   "version": "3.10.8"
  }
 },
 "nbformat": 4,
 "nbformat_minor": 5
}
