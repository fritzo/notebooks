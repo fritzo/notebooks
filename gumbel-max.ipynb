{
 "cells": [
  {
   "cell_type": "markdown",
   "metadata": {
    "vscode": {
     "languageId": "plaintext"
    }
   },
   "source": [
    "# An efficient Gumbel-max sampler\n",
    "\n",
    "Among random samplers for high-dimensional categorical distributions the Gumbel-max trick is the most stable in the sense that, fixing randomness, changes to its input parameters lead to the fewest changes to its samples. This property is desirable in systems leveraging approximate floating point numerics, where fully determinism is too costly but deterministic results are desired. However the Gumbel-max trick is much more expensive than other simpler samplers, e.g. whereas a naive inverse-cdf sampler costs only a single random number generator call, a naive Gumbel-max trick requires `num_categories`-many random number generator calls.\n",
    "\n",
    "This notebook implements a Gumbel-max sampler that is stable but consumes much less randomness, I believe something like `O(perplexity)`-many random number generator calls in expectation. This is of practical importance in e.g. LLM serving."
   ]
  },
  {
   "cell_type": "code",
   "execution_count": 1,
   "metadata": {},
   "outputs": [],
   "source": [
    "from collections import Counter\n",
    "import contextlib\n",
    "import numpy as np\n",
    "import scipy.stats"
   ]
  },
  {
   "cell_type": "code",
   "execution_count": 2,
   "metadata": {},
   "outputs": [],
   "source": [
    "counter = Counter()\n",
    "\n",
    "@contextlib.contextmanager\n",
    "def counting():\n",
    "    global counte\n",
    "    counter.clear()\n",
    "    yield\n",
    "    for key, value in sorted(counter.items()):\n",
    "        print(f\"{key: >9}: {value: >5}\")"
   ]
  },
  {
   "cell_type": "code",
   "execution_count": 3,
   "metadata": {},
   "outputs": [],
   "source": [
    "def categorical_sample(logits: np.ndarray) -> int:\n",
    "    counter[\"exp\"] += len(logits)\n",
    "    counter[\"uniform\"] += 1\n",
    "    probs = np.exp(logits - np.max(logits))\n",
    "    probs /= np.sum(probs)\n",
    "    return np.random.choice(len(logits), p=probs)"
   ]
  },
  {
   "cell_type": "code",
   "execution_count": 4,
   "metadata": {},
   "outputs": [],
   "source": [
    "def gumbel_max_naive(logits: np.ndarray) -> int:\n",
    "    counter[\"uniform\"] += 1\n",
    "    counter[\"log\"] += 2 * len(logits)\n",
    "    return int(np.argmax(logits + np.random.gumbel(size=logits.shape)))"
   ]
  },
  {
   "cell_type": "code",
   "execution_count": 5,
   "metadata": {},
   "outputs": [],
   "source": [
    "LOG_2 = np.log(2)\n",
    "\n",
    "def gumbel_icdf(u):\n",
    "    counter[\"log\"] += 2\n",
    "    u = np.clip(u, np.finfo(type(u)).tiny, 1. - np.finfo(type(u)).eps)\n",
    "    return -np.log(-np.log(u))\n",
    "\n",
    "def gumbel_cdf(x):\n",
    "    counter[\"exp\"] += 2\n",
    "    return np.exp(-np.exp(-x))\n",
    "\n",
    "def uniform():\n",
    "    counter[\"uniform\"] += 1\n",
    "    return np.random.uniform()\n",
    "\n",
    "def bernoulli():\n",
    "    counter[\"bernoulli\"] += 1\n",
    "    return np.random.uniform() < 0.5\n",
    "\n",
    "def gumbel_max_recursive(logits: np.ndarray) -> int:\n",
    "    N = len(logits)\n",
    "    if N & (N - 1) != 0:\n",
    "        raise NotImplementedError('N must be a power of 2')\n",
    "    # Consider a binary tree of N leaves, with internal nodes at addresses.\n",
    "    tree_height = N.bit_length() - 1\n",
    "    root_address = 1\n",
    "    def get_height(address: int) -> int:\n",
    "        return tree_height - (address.bit_length() - 1)\n",
    "    assert get_height(root_address) == tree_height\n",
    "    assert get_height(N) == 0\n",
    "\n",
    "    # Pass 1: Compute recursive maxima bottom-up.\n",
    "    maxima = np.full(2 * N, np.nan, dtype=logits.dtype)\n",
    "    maxima[N: 2 * N] = logits\n",
    "    def _update_maxima(size: int) -> None:\n",
    "        if size > 1:\n",
    "            x = maxima[size: 2 * size: 2]\n",
    "            y = maxima[size + 1: 2 * size: 2]\n",
    "            maxima[size // 2: size] = np.maximum(x, y)\n",
    "            _update_maxima(size // 2)\n",
    "    _update_maxima(N)\n",
    "\n",
    "    # Pass 2: Sample recursively top-down.\n",
    "    uniforms = np.full(2 * N, np.nan, dtype=logits.dtype)\n",
    "    gumbels = np.full(2 * N, np.nan, dtype=logits.dtype)\n",
    "    i_best = -1\n",
    "    logit_best = -np.inf\n",
    "    def _sample(address: int) -> None:\n",
    "        nonlocal i_best, logit_best\n",
    "        height = get_height(address)\n",
    "        if height == 0:  # Leaf.\n",
    "            g = gumbels[address]\n",
    "            x = logits[address - N] + g\n",
    "            if x > logit_best:\n",
    "                i_best = address - N\n",
    "                logit_best = x\n",
    "        else:  # Internal node.\n",
    "            left = 2 * address\n",
    "            right = 2 * address + 1\n",
    "            # Sample children, transforming independent random variables\n",
    "            #   g_parent ~ Gumbel(log(2) * (height + 1))\n",
    "            #   u_new ~ Uniform(0, 1)\n",
    "            # into iid random variables\n",
    "            #   g_left, g_right ~ Gumbel(log(2) * height)\n",
    "            u = uniforms[address]\n",
    "            g = gumbels[address]\n",
    "            upper, lower = (left, right) if bernoulli() else (right, left)\n",
    "            gumbels[upper] = g\n",
    "            u = uniforms[upper] = gumbel_cdf(g - LOG_2 * height)\n",
    "            u = uniforms[lower] = u * uniform()  # truncated sample\n",
    "            gumbels[lower] = gumbel_icdf(u) + LOG_2 * height\n",
    "            assert gumbels[lower] <= gumbels[upper]\n",
    "            # Recurse, conditional on upper bounds.\n",
    "            if maxima[left] + gumbels[left] > logit_best:\n",
    "                _sample(left)\n",
    "            if maxima[right] + gumbels[right] > logit_best:\n",
    "                _sample(right)\n",
    "    # Sample root g ~ Gumbel(log(2) * tree_height).\n",
    "    u = uniforms[root_address] = uniform()\n",
    "    gumbels[root_address] = gumbel_icdf(u) + LOG_2 * tree_height\n",
    "    _sample(root_address)\n",
    "\n",
    "    assert i_best >= 0\n",
    "    return i_best"
   ]
  },
  {
   "cell_type": "code",
   "execution_count": 6,
   "metadata": {},
   "outputs": [
    {
     "name": "stdout",
     "output_type": "stream",
     "text": [
      "102532\n",
      "bernoulli:   409\n",
      "      exp:   818\n",
      "      log:   820\n",
      "  uniform:   410\n"
     ]
    }
   ],
   "source": [
    "logits = np.random.randn(1 << 17)  # approximately llama 3\n",
    "with counting():\n",
    "    print(gumbel_max_recursive(logits))"
   ]
  },
  {
   "cell_type": "code",
   "execution_count": 7,
   "metadata": {},
   "outputs": [],
   "source": [
    "def goodness_of_fit(logits: np.ndarray, counts: np.ndarray) -> float:\n",
    "    probs = np.exp(logits - np.max(logits))\n",
    "    probs /= np.sum(probs)\n",
    "    # Use Pearson's chi-squared test.\n",
    "    count = np.sum(counts)\n",
    "    var = probs * (1 - probs) / count\n",
    "    z = counts / count - probs\n",
    "    chi2 = np.dot(z, z / var)\n",
    "    p_value = 1 - scipy.stats.chi2.cdf(chi2, len(counts) - 1)\n",
    "    return p_value"
   ]
  },
  {
   "cell_type": "code",
   "execution_count": 8,
   "metadata": {},
   "outputs": [],
   "source": [
    "def test_gof(sampler, logits, n_samples=1000):\n",
    "    counts = np.zeros_like(logits)\n",
    "    for _ in range(n_samples):\n",
    "        counts[sampler(logits)] += 1\n",
    "    gof = goodness_of_fit(logits, counts)\n",
    "    print(f\"{sampler.__name__}: {gof:.3f}\")\n",
    "    assert gof > 0.01, f\"{sampler.__name__} has bad goodness of fit\""
   ]
  },
  {
   "cell_type": "code",
   "execution_count": 9,
   "metadata": {},
   "outputs": [
    {
     "name": "stdout",
     "output_type": "stream",
     "text": [
      "categorical_sample: 0.411\n",
      "gumbel_max_naive: 0.902\n",
      "gumbel_max_recursive: 0.000\n"
     ]
    },
    {
     "ename": "AssertionError",
     "evalue": "gumbel_max_recursive has bad goodness of fit",
     "output_type": "error",
     "traceback": [
      "\u001b[0;31m---------------------------------------------------------------------------\u001b[0m",
      "\u001b[0;31mAssertionError\u001b[0m                            Traceback (most recent call last)",
      "File \u001b[0;32m<timed exec>:4\u001b[0m\n",
      "Cell \u001b[0;32mIn[8], line 7\u001b[0m, in \u001b[0;36mtest_gof\u001b[0;34m(sampler, logits, n_samples)\u001b[0m\n\u001b[1;32m      5\u001b[0m gof \u001b[38;5;241m=\u001b[39m goodness_of_fit(logits, counts)\n\u001b[1;32m      6\u001b[0m \u001b[38;5;28mprint\u001b[39m(\u001b[38;5;124mf\u001b[39m\u001b[38;5;124m\"\u001b[39m\u001b[38;5;132;01m{\u001b[39;00msampler\u001b[38;5;241m.\u001b[39m\u001b[38;5;18m__name__\u001b[39m\u001b[38;5;132;01m}\u001b[39;00m\u001b[38;5;124m: \u001b[39m\u001b[38;5;132;01m{\u001b[39;00mgof\u001b[38;5;132;01m:\u001b[39;00m\u001b[38;5;124m.3f\u001b[39m\u001b[38;5;132;01m}\u001b[39;00m\u001b[38;5;124m\"\u001b[39m)\n\u001b[0;32m----> 7\u001b[0m \u001b[38;5;28;01massert\u001b[39;00m gof \u001b[38;5;241m>\u001b[39m \u001b[38;5;241m0.01\u001b[39m, \u001b[38;5;124mf\u001b[39m\u001b[38;5;124m\"\u001b[39m\u001b[38;5;132;01m{\u001b[39;00msampler\u001b[38;5;241m.\u001b[39m\u001b[38;5;18m__name__\u001b[39m\u001b[38;5;132;01m}\u001b[39;00m\u001b[38;5;124m has bad goodness of fit\u001b[39m\u001b[38;5;124m\"\u001b[39m\n",
      "\u001b[0;31mAssertionError\u001b[0m: gumbel_max_recursive has bad goodness of fit"
     ]
    }
   ],
   "source": [
    "%%time\n",
    "logits = np.random.randn(16)\n",
    "test_gof(categorical_sample, logits)\n",
    "test_gof(gumbel_max_naive, logits)\n",
    "test_gof(gumbel_max_recursive, logits)"
   ]
  },
  {
   "cell_type": "code",
   "execution_count": null,
   "metadata": {},
   "outputs": [],
   "source": []
  }
 ],
 "metadata": {
  "kernelspec": {
   "display_name": "Python 3",
   "language": "python",
   "name": "python3"
  },
  "language_info": {
   "codemirror_mode": {
    "name": "ipython",
    "version": 3
   },
   "file_extension": ".py",
   "mimetype": "text/x-python",
   "name": "python",
   "nbconvert_exporter": "python",
   "pygments_lexer": "ipython3",
   "version": "3.11.4"
  }
 },
 "nbformat": 4,
 "nbformat_minor": 2
}
