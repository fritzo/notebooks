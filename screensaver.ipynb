{
 "cells": [
  {
   "cell_type": "code",
   "execution_count": null,
   "id": "65da8cb9",
   "metadata": {},
   "outputs": [],
   "source": [
    "import threading\n",
    "import timeit\n",
    "import torch\n",
    "import pygame"
   ]
  },
  {
   "cell_type": "code",
   "execution_count": null,
   "id": "69c0f9c0",
   "metadata": {},
   "outputs": [],
   "source": [
    "W, H = 400, 400\n",
    "pygame.init()\n",
    "screen = pygame.display.set_mode((W, H))\n",
    "pygame.display.set_caption(\"ok\")\n",
    "pygame.display.update()\n",
    "\n",
    "def draw(tensor: torch.Tensor):\n",
    "    assert tensor.shape == (W, H, 3)\n",
    "    pygame.surfarray.blit_array(screen, tensor.numpy())"
   ]
  },
  {
   "cell_type": "code",
   "execution_count": null,
   "id": "e8f3519f",
   "metadata": {},
   "outputs": [],
   "source": [
    "RUNNING = False"
   ]
  },
  {
   "cell_type": "code",
   "execution_count": null,
   "id": "c67e6548",
   "metadata": {},
   "outputs": [],
   "source": [
    "RUNNING = True\n",
    "curr_time = timeit.default_timer()\n",
    "frametime = 0\n",
    "frametime_timescale = 100\n",
    "\n",
    "def run():\n",
    "    pass\n",
    "\n",
    "def main():\n",
    "    global curr_time, frametime\n",
    "    print(\"Started\")\n",
    "    while RUNNING:\n",
    "        run()\n",
    "        \n",
    "        prev_time, curr_time = curr_time, timeit.default_timer()\n",
    "        frametime *= 1 - 1 / frametime_timescale\n",
    "        frametime += (curr_time - prev_time) / frametime_timescale\n",
    "        # pygame.display.set_caption(f\"{1 / frametime:0.1f} fps\")\n",
    "        pygame.display.update()\n",
    "    print(\"Stopped\")\n",
    "        \n",
    "thread = threading.Thread(target=main, args=())\n",
    "thread.daemon = True\n",
    "thread.start()          "
   ]
  },
  {
   "cell_type": "code",
   "execution_count": null,
   "id": "800372f4",
   "metadata": {},
   "outputs": [],
   "source": [
    "x = torch.randn(1 + W + 1, 1 + H + 1, 3)\n",
    "t = 0"
   ]
  },
  {
   "cell_type": "code",
   "execution_count": null,
   "id": "8206f3fb",
   "metadata": {},
   "outputs": [],
   "source": [
    "def run():\n",
    "    global x, t\n",
    "    t += 1\n",
    "    if t % 2:\n",
    "        x[1:].add_(x[:-1].clone()).mul_(0.5)\n",
    "        x[:, 1:].add_(x[:, :-1].clone()).mul_(0.5)\n",
    "    else:\n",
    "        x[:-1].add_(x[1:].clone()).mul_(0.5)\n",
    "        x[:, :-1].add_(x[:, 1:].clone()).mul_(0.5)\n",
    "    x.add_(0.2 * torch.randn(x.shape))\n",
    "    x.div_(x.std())\n",
    "    draw(x[1:-1, 1:-1].sigmoid().mul(255).to(torch.uint8))"
   ]
  },
  {
   "cell_type": "code",
   "execution_count": null,
   "id": "7e64c025",
   "metadata": {},
   "outputs": [],
   "source": [
    "print(1 / frametime)"
   ]
  },
  {
   "cell_type": "code",
   "execution_count": null,
   "id": "80dd8073",
   "metadata": {},
   "outputs": [],
   "source": []
  },
  {
   "cell_type": "code",
   "execution_count": null,
   "id": "c2db7cc8",
   "metadata": {},
   "outputs": [],
   "source": [
    "RUNNING = False"
   ]
  }
 ],
 "metadata": {
  "kernelspec": {
   "display_name": "Python 3 (ipykernel)",
   "language": "python",
   "name": "python3"
  },
  "language_info": {
   "codemirror_mode": {
    "name": "ipython",
    "version": 3
   },
   "file_extension": ".py",
   "mimetype": "text/x-python",
   "name": "python",
   "nbconvert_exporter": "python",
   "pygments_lexer": "ipython3",
   "version": "3.8.11"
  }
 },
 "nbformat": 4,
 "nbformat_minor": 5
}
