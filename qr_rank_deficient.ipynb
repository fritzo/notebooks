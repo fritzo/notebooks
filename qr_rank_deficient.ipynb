{
 "cells": [
  {
   "cell_type": "code",
   "execution_count": 1,
   "metadata": {},
   "outputs": [],
   "source": [
    "import torch"
   ]
  },
  {
   "cell_type": "code",
   "execution_count": 9,
   "metadata": {},
   "outputs": [
    {
     "data": {
      "text/plain": [
       "tensor([[ 0.5270, -0.0474,  0.3314, -0.3112, -0.7165],\n",
       "        [-0.5069,  1.0415, -0.3395,  0.3188,  0.9526],\n",
       "        [ 0.2574, -0.3289, -0.0791,  0.6780, -0.9326]])"
      ]
     },
     "execution_count": 9,
     "metadata": {},
     "output_type": "execute_result"
    }
   ],
   "source": [
    "m = torch.randn(3,5)\n",
    "chol_mmt = torch.linalg.cholesky(m @ m.T)\n",
    "mim = torch.triangular_solve(m, chol_mmt).solution\n",
    "mim"
   ]
  },
  {
   "cell_type": "code",
   "execution_count": 11,
   "metadata": {},
   "outputs": [
    {
     "data": {
      "text/plain": [
       "torch.return_types.linalg_qr(\n",
       "Q=tensor([[-0.6798, -0.7106, -0.1815],\n",
       "        [ 0.6539, -0.6993,  0.2886],\n",
       "        [-0.3320,  0.0775,  0.9401]]),\n",
       "R=tensor([[-0.7752,  0.8225, -0.4210,  0.1949,  1.4197],\n",
       "        [ 0.0000, -0.7202, -0.0042,  0.0508, -0.2294],\n",
       "        [ 0.0000,  0.0000, -0.2324,  0.7858, -0.4717]]))"
      ]
     },
     "execution_count": 11,
     "metadata": {},
     "output_type": "execute_result"
    }
   ],
   "source": [
    "torch.linalg.qr(mim)"
   ]
  },
  {
   "cell_type": "code",
   "execution_count": null,
   "metadata": {},
   "outputs": [],
   "source": []
  }
 ],
 "metadata": {
  "kernelspec": {
   "display_name": "Python 3",
   "language": "python",
   "name": "python3"
  },
  "language_info": {
   "codemirror_mode": {
    "name": "ipython",
    "version": 3
   },
   "file_extension": ".py",
   "mimetype": "text/x-python",
   "name": "python",
   "nbconvert_exporter": "python",
   "pygments_lexer": "ipython3",
   "version": "3.7.0"
  }
 },
 "nbformat": 4,
 "nbformat_minor": 4
}
