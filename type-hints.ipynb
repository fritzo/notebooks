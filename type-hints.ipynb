{
 "cells": [
  {
   "cell_type": "markdown",
   "id": "f87b2d20",
   "metadata": {},
   "source": [
    "# Type Hints - how do they behave?"
   ]
  },
  {
   "cell_type": "code",
   "execution_count": 1,
   "id": "552f3b3d",
   "metadata": {},
   "outputs": [],
   "source": [
    "from abc import ABC, abstractmethod\n",
    "from typing import Any, Generic, TypeVar, get_type_hints"
   ]
  },
  {
   "cell_type": "code",
   "execution_count": 2,
   "id": "58699d03",
   "metadata": {},
   "outputs": [],
   "source": [
    "__file__ = \"type-hints.ipynb\"\n",
    "\n",
    "def check():\n",
    "    !nbqa mypy {__file__}"
   ]
  },
  {
   "cell_type": "code",
   "execution_count": 3,
   "id": "d42d2a28",
   "metadata": {},
   "outputs": [
    {
     "name": "stdout",
     "output_type": "stream",
     "text": [
      "\u001b[1m\u001b[32mSuccess: no issues found in 1 source file\u001b[m\r\n"
     ]
    }
   ],
   "source": [
    "check()"
   ]
  },
  {
   "cell_type": "markdown",
   "id": "cd93917e",
   "metadata": {},
   "source": [
    "## Hints are not inherited by overridden methods"
   ]
  },
  {
   "cell_type": "code",
   "execution_count": 4,
   "id": "e65f08c3",
   "metadata": {},
   "outputs": [],
   "source": [
    "class Base1(ABC):\n",
    "    @abstractmethod\n",
    "    def method(self, arg: int) -> str:\n",
    "        raise NotImplementedError\n",
    "\n",
    "class Derived1(Base1):\n",
    "    def method(self, arg):\n",
    "        return str(arg)\n",
    "\n",
    "assert Derived1().method(3) == \"3\""
   ]
  },
  {
   "cell_type": "code",
   "execution_count": 5,
   "id": "722f24ee",
   "metadata": {},
   "outputs": [
    {
     "name": "stdout",
     "output_type": "stream",
     "text": [
      "\u001b[1m\u001b[32mSuccess: no issues found in 1 source file\u001b[m\r\n"
     ]
    }
   ],
   "source": [
    "check()"
   ]
  },
  {
   "cell_type": "code",
   "execution_count": 6,
   "id": "6c22d9c3",
   "metadata": {},
   "outputs": [
    {
     "data": {
      "text/plain": [
       "{'arg': int, 'return': str}"
      ]
     },
     "execution_count": 6,
     "metadata": {},
     "output_type": "execute_result"
    }
   ],
   "source": [
    "get_type_hints(Base1.method)"
   ]
  },
  {
   "cell_type": "code",
   "execution_count": 7,
   "id": "a030aaa1",
   "metadata": {},
   "outputs": [
    {
     "data": {
      "text/plain": [
       "{}"
      ]
     },
     "execution_count": 7,
     "metadata": {},
     "output_type": "execute_result"
    }
   ],
   "source": [
    "get_type_hints(Derived1.method)"
   ]
  },
  {
   "cell_type": "markdown",
   "id": "2b547647",
   "metadata": {},
   "source": [
    "## Hints must be compatible between base & derived"
   ]
  },
  {
   "cell_type": "code",
   "execution_count": 8,
   "id": "b7d3149e",
   "metadata": {},
   "outputs": [],
   "source": [
    "class Base2(ABC):\n",
    "    @abstractmethod\n",
    "    def method1(self, arg: int) -> str:\n",
    "        raise NotImplementedError\n",
    "        \n",
    "    @abstractmethod\n",
    "    def method2(self, arg: Any) -> Any:\n",
    "        raise NotImplementedError\n",
    "\n",
    "class Derived2a(Base2):\n",
    "    def method1(self, arg):\n",
    "        return str(arg)\n",
    "\n",
    "class Derived2b(Base2):\n",
    "    def method1(self, arg: Any) -> str:\n",
    "        return str(arg)\n",
    "\n",
    "\"\"\"\n",
    "# ERROR: This violates the Liskov substitution principle\n",
    "class Derived2c(Base2):\n",
    "    def method1(self, arg: str) -> Any:\n",
    "        #                  ^^^\n",
    "        return str(arg)\n",
    "\"\"\"\n",
    "\n",
    "class Derived2d(Base2):\n",
    "    def method2(self, arg: Any) -> str:\n",
    "        return str(arg)\n",
    "    \n",
    "class Derived2e(Base2):\n",
    "    def method2(self, arg: int) -> Any:\n",
    "        return str(arg)"
   ]
  },
  {
   "cell_type": "code",
   "execution_count": 9,
   "id": "67789bba",
   "metadata": {},
   "outputs": [
    {
     "name": "stdout",
     "output_type": "stream",
     "text": [
      "\u001b[1m\u001b[32mSuccess: no issues found in 1 source file\u001b[m\r\n"
     ]
    }
   ],
   "source": [
    "check()"
   ]
  },
  {
   "cell_type": "markdown",
   "id": "c4c122ba",
   "metadata": {},
   "source": [
    "## Existential types\n",
    "\n",
    "We can simulate existential types with generics and type variables."
   ]
  },
  {
   "cell_type": "code",
   "execution_count": 10,
   "id": "45b759a2",
   "metadata": {},
   "outputs": [],
   "source": [
    "T = TypeVar(\"T\")\n",
    "\n",
    "class BaseChecker(ABC, Generic[T]):\n",
    "    @abstractmethod\n",
    "    def check(self, x: T) -> bool:\n",
    "        raise NotImplementedError\n",
    "\n",
    "class ListChecker(BaseChecker[list]):\n",
    "    pass\n",
    "\n",
    "class IntChecker(BaseChecker[int]):\n",
    "    def check(self, x: int) -> bool:\n",
    "        return x > 0\n",
    "\n",
    "class StrChecker(BaseChecker[str]):\n",
    "    def check(self, x: str) -> bool:\n",
    "        return \" \" not in x\n",
    "    \n",
    "assert IntChecker().check(1) is True\n",
    "assert StrChecker().check(\"foo\") is True"
   ]
  },
  {
   "cell_type": "code",
   "execution_count": 11,
   "id": "48870674",
   "metadata": {},
   "outputs": [
    {
     "name": "stdout",
     "output_type": "stream",
     "text": [
      "\u001b[1m\u001b[32mSuccess: no issues found in 1 source file\u001b[m\r\n"
     ]
    }
   ],
   "source": [
    "check()"
   ]
  },
  {
   "cell_type": "code",
   "execution_count": 12,
   "id": "6e3ed3eb",
   "metadata": {},
   "outputs": [
    {
     "data": {
      "text/plain": [
       "{'x': ~T, 'return': bool}"
      ]
     },
     "execution_count": 12,
     "metadata": {},
     "output_type": "execute_result"
    }
   ],
   "source": [
    "get_type_hints(ListChecker.check)"
   ]
  },
  {
   "cell_type": "code",
   "execution_count": 13,
   "id": "c0ecabe9",
   "metadata": {},
   "outputs": [
    {
     "data": {
      "text/plain": [
       "{'x': int, 'return': bool}"
      ]
     },
     "execution_count": 13,
     "metadata": {},
     "output_type": "execute_result"
    }
   ],
   "source": [
    "get_type_hints(IntChecker.check)"
   ]
  },
  {
   "cell_type": "code",
   "execution_count": 14,
   "id": "25ebadce",
   "metadata": {},
   "outputs": [
    {
     "data": {
      "text/plain": [
       "{'x': str, 'return': bool}"
      ]
     },
     "execution_count": 14,
     "metadata": {},
     "output_type": "execute_result"
    }
   ],
   "source": [
    "get_type_hints(StrChecker.check)"
   ]
  },
  {
   "cell_type": "code",
   "execution_count": null,
   "id": "ea59e310",
   "metadata": {},
   "outputs": [],
   "source": []
  }
 ],
 "metadata": {
  "kernelspec": {
   "display_name": "Python 3 (ipykernel)",
   "language": "python",
   "name": "python3"
  },
  "language_info": {
   "codemirror_mode": {
    "name": "ipython",
    "version": 3
   },
   "file_extension": ".py",
   "mimetype": "text/x-python",
   "name": "python",
   "nbconvert_exporter": "python",
   "pygments_lexer": "ipython3",
   "version": "3.9.12"
  }
 },
 "nbformat": 4,
 "nbformat_minor": 5
}
