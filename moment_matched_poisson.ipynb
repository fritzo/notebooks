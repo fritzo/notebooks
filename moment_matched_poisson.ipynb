{
 "cells": [
  {
   "cell_type": "code",
   "execution_count": null,
   "metadata": {},
   "outputs": [],
   "source": [
    "import torch\n",
    "import pyro.distributions as dist\n",
    "import matplotlib.pyplot as plt"
   ]
  },
  {
   "cell_type": "code",
   "execution_count": null,
   "metadata": {},
   "outputs": [],
   "source": [
    "def RelaxedPoisson_cheap(rate):\n",
    "    loc = rate.log()\n",
    "    scale = rate.rsqrt()\n",
    "    return dist.LogNormal(loc, scale)\n",
    "\n",
    "def RelaxedPoisson(rate):\n",
    "    s2 = rate.reciprocal().log1p()\n",
    "    loc = rate.log() - s2 / 2\n",
    "    scale = s2.sqrt()\n",
    "    return dist.LogNormal(loc, scale)"
   ]
  },
  {
   "cell_type": "code",
   "execution_count": null,
   "metadata": {},
   "outputs": [],
   "source": [
    "x = torch.arange(100.)\n",
    "x_ = x.clamp(min=0.5)\n",
    "\n",
    "plt.figure(figsize=(8,4), dpi=300)\n",
    "for rate in [0.5, 1., 2., 5., 10., 20., 50.]:\n",
    "    rate = torch.tensor(rate)\n",
    "    plt.plot(x, dist.Poisson(rate).log_prob(x).exp(), \"k--\")\n",
    "    plt.plot(x_, RelaxedPoisson(rate).log_prob(x_).exp(), \"r-\", lw=1)\n",
    "    plt.plot(x_, RelaxedPoisson_cheap(rate).log_prob(x_).exp(), \"g-\", lw=1)\n",
    "plt.xscale(\"symlog\");"
   ]
  },
  {
   "cell_type": "code",
   "execution_count": null,
   "metadata": {},
   "outputs": [],
   "source": []
  },
  {
   "cell_type": "code",
   "execution_count": null,
   "metadata": {},
   "outputs": [],
   "source": []
  }
 ],
 "metadata": {
  "kernelspec": {
   "display_name": "Python 3",
   "language": "python",
   "name": "python3"
  },
  "language_info": {
   "codemirror_mode": {
    "name": "ipython",
    "version": 3
   },
   "file_extension": ".py",
   "mimetype": "text/x-python",
   "name": "python",
   "nbconvert_exporter": "python",
   "pygments_lexer": "ipython3",
   "version": "3.7.0"
  }
 },
 "nbformat": 4,
 "nbformat_minor": 4
}
