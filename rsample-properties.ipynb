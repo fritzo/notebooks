{
 "cells": [
  {
   "cell_type": "markdown",
   "metadata": {},
   "source": [
    "# Properties of reparameterized gradients"
   ]
  },
  {
   "cell_type": "code",
   "execution_count": 1,
   "metadata": {},
   "outputs": [],
   "source": [
    "import torch\n",
    "from torch.autograd import Variable, grad\n",
    "from torch.distributions import Normal"
   ]
  },
  {
   "cell_type": "markdown",
   "metadata": {},
   "source": [
    "Let's define some helpers for vector calculus."
   ]
  },
  {
   "cell_type": "code",
   "execution_count": 2,
   "metadata": {},
   "outputs": [],
   "source": [
    "def reparam_grad(x, a):\n",
    "    \"\"\"Computes `R = dx[:]/da` for a vector `x` that depends on a scalar `a`.\"\"\"\n",
    "    assert a.size() == (1,)\n",
    "    return torch.stack([\n",
    "        grad([x[i]], [a], create_graph=True)[0]\n",
    "        for i in range(x.size(-1))\n",
    "    ]).squeeze()\n",
    "\n",
    "def jacobian(x, e):\n",
    "    return torch.stack([\n",
    "        grad([x[i]], [e], create_graph=True)[0]\n",
    "        for i in range(x.size(-1))\n",
    "    ], -2).squeeze()\n",
    "\n",
    "def vector_field_deriv(R, e, x):\n",
    "    \"\"\"Computes the matrix of derivatives `dR[i]/dx[j]` for a vector field `R`.\"\"\"\n",
    "    dR_de = jacobian(R, e)\n",
    "    dx_de = jacobian(x, e)\n",
    "    dR_dx = torch.gesv(dx_de.transpose(0, 1), dR_de.transpose(0, 1))[0].transpose(0, 1)\n",
    "    return dR_dx\n",
    "\n",
    "def divergence(dR):\n",
    "    \"\"\"Computes divergence of a vector field `R` given its derivatives `dR`.\"\"\"\n",
    "    return (dR * Variable(torch.eye(R.size(-1)))).sum(-1).sum(-1)\n",
    "\n",
    "def antisymmetric_part(dR):\n",
    "    \"\"\"Computes generalized curl of a vector field `R` given its derivatives `dR`.\"\"\"\n",
    "    return 0.5 * (dR - dR.transpose(-1, -2))"
   ]
  },
  {
   "cell_type": "markdown",
   "metadata": {},
   "source": [
    "Consdier first a transformed normal distribution."
   ]
  },
  {
   "cell_type": "code",
   "execution_count": 3,
   "metadata": {},
   "outputs": [
    {
     "data": {
      "text/plain": [
       "Variable containing:\n",
       " 1.8636\n",
       " 0.4137\n",
       "[torch.FloatTensor of size 2]"
      ]
     },
     "execution_count": 3,
     "metadata": {},
     "output_type": "execute_result"
    }
   ],
   "source": [
    "a = Variable(torch.Tensor([1]), requires_grad=True)\n",
    "A = Variable(torch.eye(2))\n",
    "A += a * Variable(torch.Tensor([[0, 1], [-1, 0]]))\n",
    "e = Variable(torch.Tensor(2).normal_(), requires_grad=True)\n",
    "x = torch.mv(A, e) * a\n",
    "x"
   ]
  },
  {
   "cell_type": "code",
   "execution_count": 4,
   "metadata": {},
   "outputs": [
    {
     "data": {
      "text/plain": [
       "Variable containing:\n",
       " 1  1\n",
       "-1  1\n",
       "[torch.FloatTensor of size 2x2]"
      ]
     },
     "execution_count": 4,
     "metadata": {},
     "output_type": "execute_result"
    }
   ],
   "source": [
    "dx_de = jacobian(x, e)\n",
    "dx_de"
   ]
  },
  {
   "cell_type": "code",
   "execution_count": 5,
   "metadata": {},
   "outputs": [
    {
     "data": {
      "text/plain": [
       "Variable containing:\n",
       " 0.5000 -0.5000\n",
       " 0.5000  0.5000\n",
       "[torch.FloatTensor of size 2x2]"
      ]
     },
     "execution_count": 5,
     "metadata": {},
     "output_type": "execute_result"
    }
   ],
   "source": [
    "de_dx = dx_de.inverse()\n",
    "de_dx"
   ]
  },
  {
   "cell_type": "code",
   "execution_count": 6,
   "metadata": {},
   "outputs": [
    {
     "data": {
      "text/plain": [
       "Variable containing:\n",
       "1.00000e-02 *\n",
       "  3.1997\n",
       "[torch.FloatTensor of size 1]"
      ]
     },
     "execution_count": 6,
     "metadata": {},
     "output_type": "execute_result"
    }
   ],
   "source": [
    "logp = Normal(0, Variable(torch.ones(2))).log_prob(e).sum() - torch.det(A).log()\n",
    "p = logp.exp()\n",
    "p"
   ]
  },
  {
   "cell_type": "code",
   "execution_count": 7,
   "metadata": {},
   "outputs": [
    {
     "data": {
      "text/plain": [
       "(Variable containing:\n",
       " -1.0000\n",
       " [torch.FloatTensor of size 1],)"
      ]
     },
     "execution_count": 7,
     "metadata": {},
     "output_type": "execute_result"
    }
   ],
   "source": [
    "dlogp_da = grad([logp], [a], create_graph=True)\n",
    "dlogp_da"
   ]
  },
  {
   "cell_type": "code",
   "execution_count": 8,
   "metadata": {},
   "outputs": [
    {
     "data": {
      "text/plain": [
       "Variable containing:\n",
       "-0.9318\n",
       "-0.2069\n",
       "[torch.FloatTensor of size 2]"
      ]
     },
     "execution_count": 8,
     "metadata": {},
     "output_type": "execute_result"
    }
   ],
   "source": [
    "dlogp_dx = torch.mv(de_dx.transpose(0, 1), grad([logp], [e], create_graph=True)[0])\n",
    "dlogp_dx"
   ]
  },
  {
   "cell_type": "code",
   "execution_count": 9,
   "metadata": {},
   "outputs": [
    {
     "data": {
      "text/plain": [
       "Variable containing:\n",
       " 3.0023\n",
       "-0.3112\n",
       "[torch.FloatTensor of size 2]"
      ]
     },
     "execution_count": 9,
     "metadata": {},
     "output_type": "execute_result"
    }
   ],
   "source": [
    "R = reparam_grad(x, a)\n",
    "R"
   ]
  },
  {
   "cell_type": "code",
   "execution_count": 10,
   "metadata": {},
   "outputs": [
    {
     "data": {
      "text/plain": [
       "Variable containing:\n",
       " 0.6000 -0.2000\n",
       " 0.2000  0.6000\n",
       "[torch.FloatTensor of size 2x2]"
      ]
     },
     "execution_count": 10,
     "metadata": {},
     "output_type": "execute_result"
    }
   ],
   "source": [
    "dR = vector_field_deriv(R, e, x)\n",
    "dR"
   ]
  },
  {
   "cell_type": "code",
   "execution_count": 11,
   "metadata": {},
   "outputs": [
    {
     "data": {
      "text/plain": [
       "Variable containing:\n",
       "1.00000e-02 *\n",
       "  3.8397\n",
       "[torch.FloatTensor of size 1]"
      ]
     },
     "execution_count": 11,
     "metadata": {},
     "output_type": "execute_result"
    }
   ],
   "source": [
    "divergence(p * dR)"
   ]
  },
  {
   "cell_type": "markdown",
   "metadata": {},
   "source": [
    "The following should both be zero:"
   ]
  },
  {
   "cell_type": "code",
   "execution_count": 12,
   "metadata": {},
   "outputs": [
    {
     "data": {
      "text/plain": [
       "Variable containing:\n",
       "1.00000e-02 *\n",
       "  0.8581\n",
       "  3.1778\n",
       "[torch.FloatTensor of size 2]"
      ]
     },
     "execution_count": 12,
     "metadata": {},
     "output_type": "execute_result"
    }
   ],
   "source": [
    "divergence(p * dR) + dlogp_dx * p"
   ]
  },
  {
   "cell_type": "code",
   "execution_count": 13,
   "metadata": {},
   "outputs": [
    {
     "data": {
      "text/plain": [
       "Variable containing:\n",
       "1.00000e-03 *\n",
       "  0.0000 -6.3994\n",
       "  6.3994  0.0000\n",
       "[torch.FloatTensor of size 2x2]"
      ]
     },
     "execution_count": 13,
     "metadata": {},
     "output_type": "execute_result"
    }
   ],
   "source": [
    "antisymmetric_part(p * dR)"
   ]
  },
  {
   "cell_type": "code",
   "execution_count": null,
   "metadata": {},
   "outputs": [],
   "source": []
  }
 ],
 "metadata": {
  "kernelspec": {
   "display_name": "Python 2",
   "language": "python",
   "name": "python2"
  },
  "language_info": {
   "codemirror_mode": {
    "name": "ipython",
    "version": 2
   },
   "file_extension": ".py",
   "mimetype": "text/x-python",
   "name": "python",
   "nbconvert_exporter": "python",
   "pygments_lexer": "ipython2",
   "version": "2.7.14"
  }
 },
 "nbformat": 4,
 "nbformat_minor": 2
}
