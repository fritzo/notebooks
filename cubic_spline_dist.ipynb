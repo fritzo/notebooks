{
 "cells": [
  {
   "cell_type": "markdown",
   "metadata": {},
   "source": [
    "# Cubic spline distribution\n",
    "\n",
    "This describes the cubic spline used in Pyro's [SIR HMC example](https://pyro.ai/examples/sir_hmc.html)."
   ]
  },
  {
   "cell_type": "code",
   "execution_count": 1,
   "metadata": {},
   "outputs": [],
   "source": [
    "import torch\n",
    "import matplotlib.pyplot as plt\n",
    "\n",
    "%matplotlib inline"
   ]
  },
  {
   "cell_type": "markdown",
   "metadata": {},
   "source": [
    "Let's define a cubic polynomial and hand-compute its derivatives (we could alternatively do this in SymPy)."
   ]
  },
  {
   "cell_type": "code",
   "execution_count": 2,
   "metadata": {},
   "outputs": [],
   "source": [
    "def cubic(t, deriv=0):\n",
    "    if deriv == -1:\n",
    "        return torch.tensor([t, t**2/2, t**3/3, t**4/4])\n",
    "    if deriv == 0:\n",
    "        return torch.tensor([1., t, t**2, t**3])\n",
    "    if deriv == 1:\n",
    "        return torch.tensor([0., 1., 2 * t, 3*t**2])\n",
    "    if deriv == 2:\n",
    "        return torch.tensor([0., 0., 2., 6*t])"
   ]
  },
  {
   "cell_type": "markdown",
   "metadata": {},
   "source": [
    "Next let's solve a constraint problem set up as a linear system of equations. We'll assume our cubic spline has four parts but is symmetric, so we can wlog consider only two of those parts, say `f` and `g`, where\n",
    "```\n",
    "spline(t) = { f(t)   if 0 <= t <= 1\n",
    "              g(2-t) if 1 <= t <= 2\n",
    "              g(t-2) if 2 <= t <= 3\n",
    "              f(4-t) if 3 <= t <= 4\n",
    "              0      otherwise\n",
    "```"
   ]
  },
  {
   "cell_type": "code",
   "execution_count": 3,
   "metadata": {},
   "outputs": [
    {
     "name": "stdout",
     "output_type": "stream",
     "text": [
      "tensor([[ 1.0000,  0.0000,  0.0000,  0.0000,  0.0000,  0.0000,  0.0000,  0.0000],\n",
      "        [ 0.0000,  1.0000,  0.0000,  0.0000,  0.0000,  0.0000,  0.0000,  0.0000],\n",
      "        [ 0.0000,  0.0000,  2.0000,  0.0000,  0.0000,  0.0000,  0.0000,  0.0000],\n",
      "        [ 1.0000,  1.0000,  1.0000,  1.0000, -1.0000, -1.0000, -1.0000, -1.0000],\n",
      "        [ 0.0000,  1.0000,  2.0000,  3.0000,  0.0000,  1.0000,  2.0000,  3.0000],\n",
      "        [ 0.0000,  0.0000,  2.0000,  6.0000, -0.0000, -0.0000, -2.0000, -6.0000],\n",
      "        [ 0.0000,  0.0000,  0.0000,  0.0000,  0.0000,  1.0000,  0.0000,  0.0000],\n",
      "        [ 1.0000,  0.5000,  0.3333,  0.2500,  1.0000,  0.5000,  0.3333,  0.2500]])\n",
      "tensor([0.0000, 0.0000, 0.0000, 0.1667])\n",
      "tensor([ 6.6667e-01, -1.1921e-07, -1.0000e+00,  5.0000e-01])\n"
     ]
    }
   ],
   "source": [
    "# We'll build up a set of linear equations.\n",
    "vec = []\n",
    "mat = []\n",
    "\n",
    "def constrain(value, f=torch.zeros(4), g=torch.zeros(4)):\n",
    "    vec.append(value)\n",
    "    mat.append(torch.cat([f, g]))\n",
    "\n",
    "# Ensure 0,1,2 derivatives are zero at t=0.\n",
    "constrain(0., f=cubic(0))\n",
    "constrain(0., f=cubic(0, deriv=1))\n",
    "constrain(0., f=cubic(0, deriv=2))\n",
    "# Ensure 0,1,2 derivates match at t=1.\n",
    "constrain(0., f=cubic(1), g=-cubic(1))\n",
    "constrain(0., f=cubic(1, deriv=1), g=cubic(1, deriv=1))\n",
    "constrain(0., f=cubic(1, deriv=2), g=-cubic(1, deriv=2))\n",
    "# Ensure 1st derivative matches at t=2.\n",
    "# Note 0,2 derivs agreement is automatically satisfied by symmetry.\n",
    "constrain(0., g=cubic(0, deriv=1))\n",
    "# Finally constraint the total integral to unity (f+g+g+f = 1).\n",
    "constrain(.5, f=cubic(1, deriv=-1), g=cubic(1, deriv=-1))\n",
    "\n",
    "# Now we solve the linear system.\n",
    "vec = torch.tensor(vec)\n",
    "mat = torch.stack(mat)\n",
    "print(mat)\n",
    "coef = torch.solve(vec.unsqueeze(-1), mat)[0]\n",
    "\n",
    "# And print the coefficients of f and g.\n",
    "f_coef = coef[:4, 0]\n",
    "g_coef = coef[4:, 0]\n",
    "print(f_coef)\n",
    "print(g_coef)"
   ]
  },
  {
   "cell_type": "markdown",
   "metadata": {},
   "source": [
    "Let's define these functions as polynomials and plo the result to sanity check."
   ]
  },
  {
   "cell_type": "code",
   "execution_count": 4,
   "metadata": {},
   "outputs": [],
   "source": [
    "def f(t):\n",
    "    return t.unsqueeze(-1).pow(torch.arange(4.)).mul(f_coef).sum(-1)\n",
    "def g(t):\n",
    "    return t.unsqueeze(-1).pow(torch.arange(4.)).mul(g_coef).sum(-1)"
   ]
  },
  {
   "cell_type": "code",
   "execution_count": 5,
   "metadata": {},
   "outputs": [
    {
     "data": {
      "image/png": "[encoded data removed]",
      "text/plain": [
       "<Figure size 360x360 with 1 Axes>"
      ]
     },
     "metadata": {},
     "output_type": "display_data"
    }
   ],
   "source": [
    "plt.figure(figsize=(5, 5)).patch.set_color(\"white\")\n",
    "t = torch.linspace(0., 1., 100)\n",
    "plt.plot(t, f(t))\n",
    "plt.plot(2 - t, g(t));"
   ]
  },
  {
   "cell_type": "markdown",
   "metadata": {},
   "source": [
    "It looks like the coefficients are all fractions of 6:"
   ]
  },
  {
   "cell_type": "code",
   "execution_count": 6,
   "metadata": {},
   "outputs": [
    {
     "name": "stdout",
     "output_type": "stream",
     "text": [
      "tensor([0.0000, 0.0000, 0.0000, 1.0000])\n",
      "tensor([ 4.0000e+00, -7.1526e-07, -6.0000e+00,  3.0000e+00])\n"
     ]
    }
   ],
   "source": [
    "print(f_coef * 6)\n",
    "print(g_coef * 6)"
   ]
  },
  {
   "cell_type": "markdown",
   "metadata": {},
   "source": [
    "Now testing the final implementation (note the order of splines is reversed from the implementation in `sir_hmc.quantize()` because here we are plotting, whereas there we are interpolating)."
   ]
  },
  {
   "cell_type": "code",
   "execution_count": 7,
   "metadata": {},
   "outputs": [],
   "source": [
    "def quantize(x_real):\n",
    "    lb = x_real.detach().floor()\n",
    "    s = x_real - lb\n",
    "    ss = s * s\n",
    "    t = 1 - s\n",
    "    tt = t * t\n",
    "    probs = torch.stack([\n",
    "        s * ss,\n",
    "        4 + tt * (3 * t - 6),\n",
    "        4 + ss * (3 * s - 6),\n",
    "        t * tt,\n",
    "    ], dim=-1) / 6\n",
    "    return probs"
   ]
  },
  {
   "cell_type": "markdown",
   "metadata": {},
   "source": [
    "Let's see how the basis weights evolve through the unit interval."
   ]
  },
  {
   "cell_type": "code",
   "execution_count": 8,
   "metadata": {},
   "outputs": [
    {
     "data": {
      "image/png": "[encoded data removed]",
      "text/plain": [
       "<Figure size 432x288 with 1 Axes>"
      ]
     },
     "metadata": {
      "needs_background": "light"
     },
     "output_type": "display_data"
    }
   ],
   "source": [
    "plt.plot(quantize(t * 0.9999));"
   ]
  },
  {
   "cell_type": "markdown",
   "metadata": {},
   "source": [
    "And visualizing the influence of a single grid point:"
   ]
  },
  {
   "cell_type": "code",
   "execution_count": 9,
   "metadata": {},
   "outputs": [
    {
     "data": {
      "image/png": "[encoded data removed]",
      "text/plain": [
       "<Figure size 576x144 with 4 Axes>"
      ]
     },
     "metadata": {},
     "output_type": "display_data"
    }
   ],
   "source": [
    "fig, axes = plt.subplots(1, 4, figsize=(8, 2), sharey=True)\n",
    "fig.patch.set_color(\"white\")\n",
    "for part, ax in zip(quantize(t * 0.9999).T, axes):\n",
    "    ax.plot(t, part)\n",
    "    ax.set_xlim(0, 1)\n",
    "    ax.set_ylim(0, 0.7)\n",
    "plt.subplots_adjust(wspace=0)"
   ]
  },
  {
   "cell_type": "code",
   "execution_count": null,
   "metadata": {},
   "outputs": [],
   "source": []
  }
 ],
 "metadata": {
  "kernelspec": {
   "display_name": "Python 3",
   "language": "python",
   "name": "python3"
  },
  "language_info": {
   "codemirror_mode": {
    "name": "ipython",
    "version": 3
   },
   "file_extension": ".py",
   "mimetype": "text/x-python",
   "name": "python",
   "nbconvert_exporter": "python",
   "pygments_lexer": "ipython3",
   "version": "3.7.7"
  }
 },
 "nbformat": 4,
 "nbformat_minor": 4
}
