{
 "cells": [
  {
   "cell_type": "markdown",
   "id": "57144fe1",
   "metadata": {},
   "source": [
    "# Scratchwork exploring the openai api"
   ]
  },
  {
   "cell_type": "code",
   "execution_count": 5,
   "id": "9d4c90da",
   "metadata": {},
   "outputs": [
    {
     "name": "stdout",
     "output_type": "stream",
     "text": [
      "The autoreload extension is already loaded. To reload it, use:\n",
      "  %reload_ext autoreload\n"
     ]
    }
   ],
   "source": [
    "%load_ext autoreload\n",
    "%autoreload 2"
   ]
  },
  {
   "cell_type": "code",
   "execution_count": 6,
   "id": "02105d77",
   "metadata": {},
   "outputs": [],
   "source": [
    "import openai\n",
    "from lengua import LanguageModel"
   ]
  },
  {
   "cell_type": "code",
   "execution_count": 7,
   "id": "fe93b539",
   "metadata": {},
   "outputs": [],
   "source": [
    "prompt = \"\"\"\\\n",
    "1. fruits\n",
    "2. vegetables\n",
    "\"\"\""
   ]
  },
  {
   "cell_type": "code",
   "execution_count": 3,
   "id": "1ba44d29",
   "metadata": {},
   "outputs": [],
   "source": [
    "llm = LanguageModel(\"text-curie-001\")"
   ]
  },
  {
   "cell_type": "code",
   "execution_count": 19,
   "id": "5307ea6e",
   "metadata": {},
   "outputs": [],
   "source": [
    "r1 = openai.Completion.create(\n",
    "    model=\"text-curie-001\",\n",
    "    prompt=prompt,\n",
    "    stream=True,\n",
    ")"
   ]
  },
  {
   "cell_type": "code",
   "execution_count": 20,
   "id": "3fd976b3",
   "metadata": {},
   "outputs": [],
   "source": [
    "rs = list(r1)"
   ]
  },
  {
   "cell_type": "code",
   "execution_count": 21,
   "id": "360df536",
   "metadata": {},
   "outputs": [
    {
     "data": {
      "text/plain": [
       "[<OpenAIObject text_completion id=cmpl-6loeP0m3eU1X2DwFDhY1N1Nzrxf7B at 0x1177a8630> JSON: {\n",
       "   \"choices\": [\n",
       "     {\n",
       "       \"finish_reason\": null,\n",
       "       \"index\": 0,\n",
       "       \"logprobs\": null,\n",
       "       \"text\": \"3\"\n",
       "     }\n",
       "   ],\n",
       "   \"created\": 1676854137,\n",
       "   \"id\": \"cmpl-6loeP0m3eU1X2DwFDhY1N1Nzrxf7B\",\n",
       "   \"model\": \"text-curie-001\",\n",
       "   \"object\": \"text_completion\"\n",
       " },\n",
       " <OpenAIObject text_completion id=cmpl-6loeP0m3eU1X2DwFDhY1N1Nzrxf7B at 0x11772b740> JSON: {\n",
       "   \"choices\": [\n",
       "     {\n",
       "       \"finish_reason\": null,\n",
       "       \"index\": 0,\n",
       "       \"logprobs\": null,\n",
       "       \"text\": \".\"\n",
       "     }\n",
       "   ],\n",
       "   \"created\": 1676854137,\n",
       "   \"id\": \"cmpl-6loeP0m3eU1X2DwFDhY1N1Nzrxf7B\",\n",
       "   \"model\": \"text-curie-001\",\n",
       "   \"object\": \"text_completion\"\n",
       " },\n",
       " <OpenAIObject text_completion id=cmpl-6loeP0m3eU1X2DwFDhY1N1Nzrxf7B at 0x11772ba10> JSON: {\n",
       "   \"choices\": [\n",
       "     {\n",
       "       \"finish_reason\": null,\n",
       "       \"index\": 0,\n",
       "       \"logprobs\": null,\n",
       "       \"text\": \" grains\"\n",
       "     }\n",
       "   ],\n",
       "   \"created\": 1676854137,\n",
       "   \"id\": \"cmpl-6loeP0m3eU1X2DwFDhY1N1Nzrxf7B\",\n",
       "   \"model\": \"text-curie-001\",\n",
       "   \"object\": \"text_completion\"\n",
       " },\n",
       " <OpenAIObject text_completion id=cmpl-6loeP0m3eU1X2DwFDhY1N1Nzrxf7B at 0x11772a840> JSON: {\n",
       "   \"choices\": [\n",
       "     {\n",
       "       \"finish_reason\": null,\n",
       "       \"index\": 0,\n",
       "       \"logprobs\": null,\n",
       "       \"text\": \"\\n\"\n",
       "     }\n",
       "   ],\n",
       "   \"created\": 1676854137,\n",
       "   \"id\": \"cmpl-6loeP0m3eU1X2DwFDhY1N1Nzrxf7B\",\n",
       "   \"model\": \"text-curie-001\",\n",
       "   \"object\": \"text_completion\"\n",
       " },\n",
       " <OpenAIObject text_completion id=cmpl-6loeP0m3eU1X2DwFDhY1N1Nzrxf7B at 0x11772aed0> JSON: {\n",
       "   \"choices\": [\n",
       "     {\n",
       "       \"finish_reason\": null,\n",
       "       \"index\": 0,\n",
       "       \"logprobs\": null,\n",
       "       \"text\": \"4\"\n",
       "     }\n",
       "   ],\n",
       "   \"created\": 1676854137,\n",
       "   \"id\": \"cmpl-6loeP0m3eU1X2DwFDhY1N1Nzrxf7B\",\n",
       "   \"model\": \"text-curie-001\",\n",
       "   \"object\": \"text_completion\"\n",
       " },\n",
       " <OpenAIObject text_completion id=cmpl-6loeP0m3eU1X2DwFDhY1N1Nzrxf7B at 0x11772a930> JSON: {\n",
       "   \"choices\": [\n",
       "     {\n",
       "       \"finish_reason\": null,\n",
       "       \"index\": 0,\n",
       "       \"logprobs\": null,\n",
       "       \"text\": \".\"\n",
       "     }\n",
       "   ],\n",
       "   \"created\": 1676854137,\n",
       "   \"id\": \"cmpl-6loeP0m3eU1X2DwFDhY1N1Nzrxf7B\",\n",
       "   \"model\": \"text-curie-001\",\n",
       "   \"object\": \"text_completion\"\n",
       " },\n",
       " <OpenAIObject text_completion id=cmpl-6loeP0m3eU1X2DwFDhY1N1Nzrxf7B at 0x11772af20> JSON: {\n",
       "   \"choices\": [\n",
       "     {\n",
       "       \"finish_reason\": null,\n",
       "       \"index\": 0,\n",
       "       \"logprobs\": null,\n",
       "       \"text\": \" dairy\"\n",
       "     }\n",
       "   ],\n",
       "   \"created\": 1676854137,\n",
       "   \"id\": \"cmpl-6loeP0m3eU1X2DwFDhY1N1Nzrxf7B\",\n",
       "   \"model\": \"text-curie-001\",\n",
       "   \"object\": \"text_completion\"\n",
       " },\n",
       " <OpenAIObject text_completion id=cmpl-6loeP0m3eU1X2DwFDhY1N1Nzrxf7B at 0x11772a570> JSON: {\n",
       "   \"choices\": [\n",
       "     {\n",
       "       \"finish_reason\": \"stop\",\n",
       "       \"index\": 0,\n",
       "       \"logprobs\": null,\n",
       "       \"text\": \"\"\n",
       "     }\n",
       "   ],\n",
       "   \"created\": 1676854137,\n",
       "   \"id\": \"cmpl-6loeP0m3eU1X2DwFDhY1N1Nzrxf7B\",\n",
       "   \"model\": \"text-curie-001\",\n",
       "   \"object\": \"text_completion\"\n",
       " }]"
      ]
     },
     "execution_count": 21,
     "metadata": {},
     "output_type": "execute_result"
    }
   ],
   "source": [
    "rs"
   ]
  },
  {
   "cell_type": "code",
   "execution_count": 22,
   "id": "60b79f1a",
   "metadata": {},
   "outputs": [
    {
     "data": {
      "text/plain": [
       "['3', '.', ' grains', '\\n', '4', '.', ' dairy', '']"
      ]
     },
     "execution_count": 22,
     "metadata": {},
     "output_type": "execute_result"
    }
   ],
   "source": [
    "[r[\"choices\"][0][\"text\"] for r in rs]"
   ]
  },
  {
   "cell_type": "code",
   "execution_count": 31,
   "id": "a0d7b60e",
   "metadata": {},
   "outputs": [
    {
     "data": {
      "text/plain": [
       "async_generator"
      ]
     },
     "execution_count": 31,
     "metadata": {},
     "output_type": "execute_result"
    }
   ],
   "source": [
    "r2 = await openai.Completion.acreate(\n",
    "    model=\"text-curie-001\",\n",
    "    prompt=prompt,\n",
    "    stream=True,\n",
    ")\n",
    "type(r2)"
   ]
  },
  {
   "cell_type": "code",
   "execution_count": 32,
   "id": "ee7a7751",
   "metadata": {},
   "outputs": [
    {
     "name": "stdout",
     "output_type": "stream",
     "text": [
      "'3'\n",
      "'.'\n",
      "' meat'\n",
      "'\\n'\n",
      "'4'\n",
      "'.'\n",
      "' dairy'\n",
      "'\\n'\n",
      "'5'\n",
      "'.'\n",
      "' sugar'\n",
      "'\\n'\n",
      "'6'\n",
      "'.'\n",
      "' oils'\n",
      "'\\n'\n"
     ]
    }
   ],
   "source": [
    "async def foo(results):\n",
    "    async for r in results:\n",
    "        print(repr(r[\"choices\"][0][\"text\"]))\n",
    "\n",
    "\n",
    "await foo(r2)"
   ]
  },
  {
   "cell_type": "code",
   "execution_count": 41,
   "id": "483a19af",
   "metadata": {},
   "outputs": [],
   "source": [
    "r3 = await openai.Completion.acreate(\n",
    "    model=\"text-curie-001\",\n",
    "    prompt=prompt,\n",
    "    stream=True,\n",
    ")"
   ]
  },
  {
   "cell_type": "code",
   "execution_count": 42,
   "id": "653bb001",
   "metadata": {},
   "outputs": [],
   "source": [
    "async def alist(xs):\n",
    "    text = []\n",
    "    async for x in xs:\n",
    "        text.append(x[\"choices\"][0][\"text\"])\n",
    "    return text"
   ]
  },
  {
   "cell_type": "code",
   "execution_count": 44,
   "id": "7aa7b22e",
   "metadata": {},
   "outputs": [
    {
     "data": {
      "text/plain": [
       "['\\n', '3', '.', ' grains', '']"
      ]
     },
     "execution_count": 44,
     "metadata": {},
     "output_type": "execute_result"
    }
   ],
   "source": [
    "text = await alist(r3)\n",
    "text"
   ]
  },
  {
   "cell_type": "code",
   "execution_count": null,
   "id": "90b28259",
   "metadata": {},
   "outputs": [],
   "source": []
  }
 ],
 "metadata": {
  "kernelspec": {
   "display_name": "Python 3 (ipykernel)",
   "language": "python",
   "name": "python3"
  },
  "language_info": {
   "codemirror_mode": {
    "name": "ipython",
    "version": 3
   },
   "file_extension": ".py",
   "mimetype": "text/x-python",
   "name": "python",
   "nbconvert_exporter": "python",
   "pygments_lexer": "ipython3",
   "version": "3.10.9"
  }
 },
 "nbformat": 4,
 "nbformat_minor": 5
}
