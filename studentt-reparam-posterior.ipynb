{
 "cells": [
  {
   "cell_type": "markdown",
   "id": "baf4285c",
   "metadata": {},
   "source": [
    "# `StudentTReparam` posteriors\n",
    "\n",
    "This notebook examines the posteriors over the four latent variables introduced by `StudentTReparam`, conditioned on a single datum and the `StudentT` parameters. Our goal is to assess the accuracy of an `AutoNormal` approximation to this posterior, addressing [Pyro issue #3280](https://github.com/pyro-ppl/pyro/issues/3280)."
   ]
  },
  {
   "cell_type": "code",
   "execution_count": 9,
   "id": "30d0dbb6",
   "metadata": {},
   "outputs": [],
   "source": [
    "import torch\n",
    "import pyro\n",
    "import pyro.distributions as dist\n",
    "from pyro import poutine\n",
    "from pyro.distributions import constraints\n",
    "from pyro.infer import SVI, Trace_ELBO\n",
    "from pyro.infer.mcmc import MCMC, NUTS\n",
    "from pyro.infer.reparam import StudentTReparam\n",
    "from pyro.nn.module import PyroModule, PyroParam\n",
    "from pyro.optim import ClippedAdam\n",
    "import matplotlib as mpl\n",
    "import matplotlib.pyplot as plt\n",
    "\n",
    "torch.set_default_dtype(torch.float64)\n",
    "pyro.set_rng_seed(20231006)\n",
    "mpl.rcParams['figure.facecolor'] = 'white'"
   ]
  },
  {
   "cell_type": "code",
   "execution_count": 10,
   "id": "337140e9",
   "metadata": {},
   "outputs": [],
   "source": [
    "loc = 0.0\n",
    "scale = 1.0\n",
    "df = 1.0\n",
    "student_t = dist.StudentT(df, loc, scale)"
   ]
  },
  {
   "cell_type": "code",
   "execution_count": 11,
   "id": "77ba9f0f",
   "metadata": {},
   "outputs": [],
   "source": [
    "@poutine.reparam(config={\"x\": StudentTReparam()})\n",
    "def model(data: torch.Tensor):\n",
    "    with pyro.plate(\"data\", len(data)):\n",
    "        pyro.sample(\"x\", student_t, obs=data)"
   ]
  },
  {
   "cell_type": "markdown",
   "id": "b2d78315",
   "metadata": {},
   "source": [
    "Let's sample some representative points."
   ]
  },
  {
   "cell_type": "code",
   "execution_count": 12,
   "id": "dcfecd74",
   "metadata": {
    "scrolled": true
   },
   "outputs": [
    {
     "data": {
      "text/plain": [
       "torch.Size([10001])"
      ]
     },
     "execution_count": 12,
     "metadata": {},
     "output_type": "execute_result"
    }
   ],
   "source": [
    "data = student_t.sample([10001])\n",
    "data, _ = data.sort()\n",
    "data.shape"
   ]
  },
  {
   "cell_type": "code",
   "execution_count": 13,
   "id": "1e24132e",
   "metadata": {},
   "outputs": [
    {
     "data": {
      "text/plain": [
       "Text(0.5, 1.0, 'Approximate CDF')"
      ]
     },
     "execution_count": 13,
     "metadata": {},
     "output_type": "execute_result"
    },
    {
     "data": {
      "image/png": "[encoded data removed]",
      "text/plain": [
       "<Figure size 432x288 with 1 Axes>"
      ]
     },
     "metadata": {},
     "output_type": "display_data"
    }
   ],
   "source": [
    "plt.plot(data, torch.linspace(0, 1, len(data)))\n",
    "plt.xlim(-10, 10)\n",
    "plt.title(\"Approximate CDF\")"
   ]
  },
  {
   "cell_type": "code",
   "execution_count": 14,
   "id": "3290fcd4",
   "metadata": {},
   "outputs": [],
   "source": [
    "quantiles = torch.tensor([-5.0, -2.5, 0.0, 2.5, 5.0])"
   ]
  },
  {
   "cell_type": "code",
   "execution_count": 66,
   "id": "504a10df",
   "metadata": {},
   "outputs": [
    {
     "name": "stderr",
     "output_type": "stream",
     "text": [
      "Sample: 100%|███████████████████████████████████████| 4400/4400 [00:12, 364.21it/s, step size=4.23e-01, acc. prob=0.933]                \n"
     ]
    }
   ],
   "source": [
    "# draw samples using Pyro's NUTS\n",
    "kernel = NUTS(model)\n",
    "mcmc = MCMC(kernel, num_samples=4000, warmup_steps=400)\n",
    "mcmc.run(quantiles)\n",
    "samples = mcmc.get_samples()"
   ]
  },
  {
   "cell_type": "code",
   "execution_count": 67,
   "id": "15fc9361",
   "metadata": {},
   "outputs": [
    {
     "data": {
      "text/plain": [
       "{'x_gamma': torch.Size([4000, 5])}"
      ]
     },
     "execution_count": 67,
     "metadata": {},
     "output_type": "execute_result"
    }
   ],
   "source": [
    "{k: v.shape for k, v in sorted(samples.items())}"
   ]
  },
  {
   "cell_type": "code",
   "execution_count": 68,
   "id": "e89ac9f8",
   "metadata": {},
   "outputs": [
    {
     "data": {
      "text/plain": [
       "torch.Size([4000, 5])"
      ]
     },
     "execution_count": 68,
     "metadata": {},
     "output_type": "execute_result"
    }
   ],
   "source": [
    "z = samples[\"x_gamma\"]\n",
    "z.shape"
   ]
  },
  {
   "cell_type": "code",
   "execution_count": 69,
   "id": "31497d8d",
   "metadata": {},
   "outputs": [
    {
     "data": {
      "text/plain": [
       "{'x_gamma': ComposeTransform(\n",
       "     _InverseTransform(AffineTransform()),\n",
       "     _InverseTransform(ExpTransform())\n",
       " )}"
      ]
     },
     "execution_count": 69,
     "metadata": {},
     "output_type": "execute_result"
    }
   ],
   "source": [
    "mcmc.transforms"
   ]
  },
  {
   "cell_type": "code",
   "execution_count": 70,
   "id": "3705f4db",
   "metadata": {},
   "outputs": [],
   "source": [
    "z_unconstrained = mcmc.transforms[\"x_gamma\"](z)"
   ]
  },
  {
   "cell_type": "code",
   "execution_count": 71,
   "id": "fcbf97fc",
   "metadata": {},
   "outputs": [
    {
     "data": {
      "image/png": "[encoded data removed]",
      "text/plain": [
       "<Figure size 288x144 with 1 Axes>"
      ]
     },
     "metadata": {},
     "output_type": "display_data"
    },
    {
     "data": {
      "image/png": "[encoded data removed]",
      "text/plain": [
       "<Figure size 288x144 with 1 Axes>"
      ]
     },
     "metadata": {},
     "output_type": "display_data"
    },
    {
     "data": {
      "image/png": "[encoded data removed]",
      "text/plain": [
       "<Figure size 288x144 with 1 Axes>"
      ]
     },
     "metadata": {},
     "output_type": "display_data"
    },
    {
     "data": {
      "image/png": "[encoded data removed]",
      "text/plain": [
       "<Figure size 288x144 with 1 Axes>"
      ]
     },
     "metadata": {},
     "output_type": "display_data"
    },
    {
     "data": {
      "image/png": "[encoded data removed]",
      "text/plain": [
       "<Figure size 288x144 with 1 Axes>"
      ]
     },
     "metadata": {},
     "output_type": "display_data"
    }
   ],
   "source": [
    "for i in range(5):\n",
    "    plt.figure(figsize=(4, 2))\n",
    "    plt.hist(z_unconstrained[:, i].numpy(), bins=40, lw=0);"
   ]
  },
  {
   "cell_type": "markdown",
   "id": "fdfd509d",
   "metadata": {},
   "source": [
    "## Fitting a conditional normalizing flow\n",
    "\n",
    "Let's fit a conditional normalizing flow that depends only on the data point. In a real application we'd want to additionally depend on the local parameters of the stable distribution (stability, skew, scale, and loc)."
   ]
  },
  {
   "cell_type": "code",
   "execution_count": 74,
   "id": "083332d5",
   "metadata": {},
   "outputs": [],
   "source": [
    "pyro.set_rng_seed(20231007)\n",
    "data = student_t.sample([10000])"
   ]
  },
  {
   "cell_type": "code",
   "execution_count": 82,
   "id": "ff9ec8b6",
   "metadata": {},
   "outputs": [],
   "source": [
    "class AmortizedNormalGuide(PyroModule):\n",
    "    def __init__(self, data: torch.Tensor, hidden_dim=10):\n",
    "        super().__init__()\n",
    "        self.net = torch.nn.Sequential(\n",
    "            torch.nn.Linear(1, hidden_dim),\n",
    "            torch.nn.Tanh(),\n",
    "            torch.nn.Linear(hidden_dim, hidden_dim),\n",
    "            torch.nn.Tanh(),\n",
    "            torch.nn.Linear(hidden_dim, 2),\n",
    "        )\n",
    "\n",
    "        with torch.no_grad():\n",
    "            mean = self.net(data[..., None]).mean(dim=0)\n",
    "            # Initialize to zero mean, small variance.\n",
    "            self.net[-1].bias.data -= mean\n",
    "            self.net[-1].bias.data[1] -= 5\n",
    "            print(self.net(data[..., None]).mean(dim=0))\n",
    "\n",
    "\n",
    "    def forward(self, data: torch.Tensor):\n",
    "        loc, scale = self.net(data[..., None]).unbind(-1)\n",
    "        scale = torch.nn.functional.softplus(scale)\n",
    "        with pyro.plate(\"data\", len(data)):\n",
    "            z = pyro.sample(\n",
    "                \"z\",\n",
    "                dist.TransformedDistribution(\n",
    "                    dist.Normal(loc, scale),\n",
    "                    dist.transforms.SoftplusTransform(),\n",
    "                ),\n",
    "                infer={\"is_auxiliary\": True},\n",
    "            )\n",
    "            pyro.sample(\"x_gamma\", dist.Delta(z))\n",
    "        return z\n",
    "        "
   ]
  },
  {
   "cell_type": "code",
   "execution_count": 83,
   "id": "138516be",
   "metadata": {},
   "outputs": [
    {
     "name": "stdout",
     "output_type": "stream",
     "text": [
      "tensor([-1.5810e-17, -5.0000e+00])\n",
      "step:    0 loss: 584.42\n",
      "step:  500 loss: 227.57\n",
      "step: 1000 loss: 2.6\n",
      "step: 1500 loss: 2.5671\n",
      "step: 2000 loss: 2.531\n",
      "step: 2500 loss: 2.6598\n",
      "step: 3000 loss: 2.5293\n",
      "step: 3500 loss: 2.5423\n",
      "step: 4000 loss: 2.5096\n",
      "step: 4500 loss: 2.503\n",
      "step: 5000 loss: 2.5788\n",
      "step: 5500 loss: 2.489\n",
      "step: 6000 loss: 2.513\n",
      "step: 6500 loss: 2.541\n",
      "step: 7000 loss: 2.5383\n",
      "step: 7500 loss: 2.5904\n",
      "step: 8000 loss: 2.4698\n",
      "step: 8500 loss: 2.6248\n",
      "step: 9000 loss: 2.5201\n",
      "step: 9500 loss: 2.4618\n",
      "step: 10000 loss: 2.6024\n"
     ]
    },
    {
     "data": {
      "text/plain": [
       "(2.319406986656819, 584.4193379703773)"
      ]
     },
     "execution_count": 83,
     "metadata": {},
     "output_type": "execute_result"
    },
    {
     "data": {
      "image/png": "[encoded data removed]",
      "text/plain": [
       "<Figure size 432x288 with 1 Axes>"
      ]
     },
     "metadata": {},
     "output_type": "display_data"
    }
   ],
   "source": [
    "pyro.clear_param_store()\n",
    "pyro.set_rng_seed(20231007)\n",
    "\n",
    "num_steps = 10001\n",
    "guide = AmortizedNormalGuide(data)\n",
    "elbo = Trace_ELBO()\n",
    "optim = ClippedAdam({\"clip_norm\": 100, \"lr\": 0.002, \"lrd\": 0.1**(1 / num_steps)})\n",
    "svi = SVI(model, guide, optim, elbo)\n",
    "losses = []\n",
    "for step in range(num_steps):\n",
    "    batch = data[torch.randint(len(data), (1000,))]\n",
    "    loss = svi.step(batch) / len(batch)\n",
    "    losses.append(loss)\n",
    "    if step % 500 == 0:\n",
    "        print(f\"step: {step: >4d} loss: {loss:0.5g}\")\n",
    "\n",
    "plt.plot(losses)\n",
    "plt.ylim(min(losses), losses[0])"
   ]
  },
  {
   "cell_type": "code",
   "execution_count": 86,
   "id": "66cb1bd6",
   "metadata": {},
   "outputs": [
    {
     "data": {
      "text/plain": [
       "torch.Size([5, 4000])"
      ]
     },
     "execution_count": 86,
     "metadata": {},
     "output_type": "execute_result"
    }
   ],
   "source": [
    "with torch.no_grad(), pyro.plate(\"samples\", 4000):\n",
    "    svi_samples = dist.transforms.SoftplusTransform().inv(guide(quantiles[:, None]))\n",
    "svi_samples.shape"
   ]
  },
  {
   "cell_type": "code",
   "execution_count": 93,
   "id": "70801b1c",
   "metadata": {},
   "outputs": [
    {
     "data": {
      "image/png": "[encoded data removed]",
      "text/plain": [
       "<Figure size 288x144 with 1 Axes>"
      ]
     },
     "metadata": {},
     "output_type": "display_data"
    },
    {
     "data": {
      "image/png": "[encoded data removed]",
      "text/plain": [
       "<Figure size 288x144 with 1 Axes>"
      ]
     },
     "metadata": {},
     "output_type": "display_data"
    },
    {
     "data": {
      "image/png": "[encoded data removed]",
      "text/plain": [
       "<Figure size 288x144 with 1 Axes>"
      ]
     },
     "metadata": {},
     "output_type": "display_data"
    },
    {
     "data": {
      "image/png": "[encoded data removed]",
      "text/plain": [
       "<Figure size 288x144 with 1 Axes>"
      ]
     },
     "metadata": {},
     "output_type": "display_data"
    },
    {
     "data": {
      "image/png": "[encoded data removed]",
      "text/plain": [
       "<Figure size 288x144 with 1 Axes>"
      ]
     },
     "metadata": {},
     "output_type": "display_data"
    }
   ],
   "source": [
    "\n",
    "for i in range(len(quantiles)):\n",
    "    plt.figure(figsize=(4, 2))\n",
    "    plt.hist(z_unconstrained[:, i].numpy(), bins=40, lw=0, color=\"C0\", alpha=1, label=\"NUTS\", density=True)\n",
    "    plt.hist(svi_samples[i].numpy(), bins=40, lw=0, color=\"C1\", alpha=0.666, label=\"SVI\", density=True)\n",
    "    plt.legend(loc=\"upper left\");"
   ]
  },
  {
   "cell_type": "code",
   "execution_count": null,
   "id": "7a40c6c3",
   "metadata": {},
   "outputs": [],
   "source": []
  }
 ],
 "metadata": {
  "kernelspec": {
   "display_name": "Python 3 (ipykernel)",
   "language": "python",
   "name": "python3"
  },
  "language_info": {
   "codemirror_mode": {
    "name": "ipython",
    "version": 3
   },
   "file_extension": ".py",
   "mimetype": "text/x-python",
   "name": "python",
   "nbconvert_exporter": "python",
   "pygments_lexer": "ipython3",
   "version": "3.8.11"
  }
 },
 "nbformat": 4,
 "nbformat_minor": 5
}
