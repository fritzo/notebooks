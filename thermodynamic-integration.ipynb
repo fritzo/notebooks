{
 "cells": [
  {
   "cell_type": "markdown",
   "id": "69d2975f",
   "metadata": {},
   "source": [
    "# Thermodynamic integration\n",
    "\n",
    "This is based on the discrete Langevin sampler tested in[potts-locally-informed-mh.ipynb](https://github.com/fritzo/notebooks/blob/master/potts-locally-informed-mh.ipynb)."
   ]
  },
  {
   "cell_type": "code",
   "execution_count": 1,
   "id": "6d477aaf",
   "metadata": {},
   "outputs": [],
   "source": [
    "import itertools\n",
    "import math\n",
    "from collections import Counter\n",
    "\n",
    "import torch\n",
    "import torch.distributions as dist\n",
    "import matplotlib\n",
    "import matplotlib.pyplot as plt\n",
    "from opt_einsum import contract as einsum\n",
    "from tqdm.auto import tqdm\n",
    "\n",
    "matplotlib.rcParams.update({'figure.facecolor': \"white\"})\n",
    "matplotlib.rcParams.update({'figure.dpi': 200})"
   ]
  },
  {
   "cell_type": "markdown",
   "id": "6f6aa655",
   "metadata": {},
   "source": [
    "We'll use sample efficiency to test correctness of distribution. For good samplers, sample efficiency should be close to one; for bad samplers it should be close to zero."
   ]
  },
  {
   "cell_type": "code",
   "execution_count": 2,
   "id": "0140cc21",
   "metadata": {},
   "outputs": [],
   "source": [
    "def sample_efficiency(counts: torch.Tensor, probs: torch.Tensor) -> float:\n",
    "    total = counts.sum()\n",
    "    chisq = (counts - total * probs).square().sum().div(total)\n",
    "    return float(1 / chisq)"
   ]
  },
  {
   "cell_type": "markdown",
   "id": "dc10d34e",
   "metadata": {},
   "source": [
    "Consider a simple coupled non-normalized probability distribution."
   ]
  },
  {
   "cell_type": "code",
   "execution_count": 3,
   "id": "4ba632e8",
   "metadata": {},
   "outputs": [],
   "source": [
    "class Potts:\n",
    "    def __init__(self, p, k, temperature=2):\n",
    "        self.v = torch.randn(p, k) / temperature\n",
    "        self.e = torch.randn(p, p, k, k) / temperature\n",
    "    def __call__(self, x):\n",
    "        return einsum(\"...vi,vi\", x, self.v) + einsum(\"...ui,...vj,uvij\", x, x, self.e)\n",
    "    def enumerate_support(self):\n",
    "        p, k = self.v.shape\n",
    "        support = torch.tensor(list(itertools.product(*[range(k)] * p)))\n",
    "        return torch.nn.functional.one_hot(support).float()"
   ]
  },
  {
   "cell_type": "markdown",
   "id": "62485ce2",
   "metadata": {},
   "source": [
    "Let's use a parallel adaptive discrete Langevin MH sampler. "
   ]
  },
  {
   "cell_type": "code",
   "execution_count": 4,
   "id": "420e272b",
   "metadata": {},
   "outputs": [],
   "source": [
    "def logp_and_nbhd(f, x):\n",
    "    x.requires_grad_()\n",
    "    logp = f(x)\n",
    "    assert logp.shape == x.shape[:-2]\n",
    "    nbhd = torch.autograd.grad(logp.sum(), [x])[0].detach()\n",
    "    x.detach_()\n",
    "    logp.detach_()\n",
    "    nbhd -= (nbhd * x).sum(-1, True)\n",
    "    nbhd /= 2\n",
    "    return logp, nbhd\n",
    "\n",
    "def make_proposal(x, nbhd, temperature):\n",
    "    logq = nbhd / temperature\n",
    "    logq += x * logq.exp().sum(-1, True).max(-2, True).values.sub(1).clamp(min=1).log()\n",
    "    logq -= logq.logsumexp(-1, True)\n",
    "    return logq\n",
    "    \n",
    "def anneal(\n",
    "    f: callable, p: int, k: int, num_steps: int, num_samples: int\n",
    ") -> torch.Tensor:\n",
    "    log_Z = p * math.log(k)  # entropy of uniform distribution\n",
    "    x0 = dist.OneHotCategorical(torch.ones(p, k)).sample([num_samples])\n",
    "    logp0, nbhd0 = logp_and_nbhd(f, x0)\n",
    "    beta_old = 0\n",
    "    acceptance_rate = 0\n",
    "    for beta_new in tqdm(torch.linspace(1 / num_steps, 1, num_steps)):\n",
    "        logq0 = make_proposal(x0, nbhd0, 1 / beta_new)\n",
    "        x1 = dist.OneHotCategorical(logits=logq0).sample()\n",
    "        if (x0 == x1).all():\n",
    "            acceptance_rate += 1\n",
    "        else:\n",
    "            logp1, nbhd1 = logp_and_nbhd(f, x1)\n",
    "            logq1 = make_proposal(x1, nbhd1, 1 / beta_new)\n",
    "            logq10 = einsum(\"bpk,bpk->b\", logq1, x0)\n",
    "            logq01 = einsum(\"bpk,bpk->b\", logq0, x1)\n",
    "            ratio = (logp1 - logp0 + logq10 - logq01).exp()\n",
    "            accept = ratio > torch.rand(ratio.shape)\n",
    "            acceptance_rate += accept.float().mean().item()\n",
    "            if accept.all():\n",
    "                x0, logp0, nbhd0 = x1, logp1, nbhd1\n",
    "            elif accept.any():\n",
    "                x0[accept] = x1[accept]\n",
    "                logp0[accept] = logp1[accept]\n",
    "                nbhd0[accept] = nbhd1[accept]\n",
    "        log_Z += (beta_new - beta_old) * logp0\n",
    "        beta_old = beta_new\n",
    "    print(f\"acceptance rate = {acceptance_rate / num_steps:0.3g}\")\n",
    "    return x0, log_Z"
   ]
  },
  {
   "cell_type": "markdown",
   "id": "c1b70c82",
   "metadata": {},
   "source": [
    "Now we'll test accuracy of the log partition function and of the sampled distribution. This only works for small problems where we can completely enumerate the support."
   ]
  },
  {
   "cell_type": "code",
   "execution_count": 5,
   "id": "e5e58bf4",
   "metadata": {},
   "outputs": [],
   "source": [
    "def test_sampler(p, k, num_steps=2000, num_samples=5000):\n",
    "    print(f\"Simulating model with {k**p} states\")\n",
    "    torch.manual_seed(20220714)\n",
    "    f = Potts(p, k)\n",
    "    xs = f.enumerate_support()\n",
    "    logp = f(xs)\n",
    "    true_log_Z = logp.logsumexp(-1)\n",
    "    logp -= true_log_Z\n",
    "    probs = logp.exp()\n",
    "    entropy = -probs @ logp\n",
    "    print(f\"perplexity = {entropy.exp():0.1f}\")\n",
    "\n",
    "    sample, log_Z = anneal(f, p, k, num_steps=num_steps, num_samples=num_samples)\n",
    "    counts_dict = Counter(map(tuple, sample.max(-1).indices.tolist()))\n",
    "    counts = torch.zeros_like(probs)\n",
    "    for i, x in enumerate(xs.max(-1).indices.tolist()):\n",
    "        counts[i] = counts_dict[tuple(x)]\n",
    "    print(f\"sample efficiency = {sample_efficiency(counts, probs):0.3g}\")\n",
    "    print(f\"True log Z = {true_log_Z:0.5g}\")\n",
    "    print(f\"Estimated log Z = {log_Z.mean():0.5g} +- {log_Z.std():0.3g}\")"
   ]
  },
  {
   "cell_type": "code",
   "execution_count": 6,
   "id": "28c81d03",
   "metadata": {},
   "outputs": [
    {
     "name": "stdout",
     "output_type": "stream",
     "text": [
      "Simulating model with 27 states\n",
      "perplexity = 9.8\n"
     ]
    },
    {
     "data": {
      "application/vnd.jupyter.widget-view+json": {
       "model_id": "2ed29ba8fdb0495da109bf412c8fac57",
       "version_major": 2,
       "version_minor": 0
      },
      "text/plain": [
       "  0%|          | 0/2000 [00:00<?, ?it/s]"
      ]
     },
     "metadata": {},
     "output_type": "display_data"
    },
    {
     "name": "stdout",
     "output_type": "stream",
     "text": [
      "acceptance rate = 0.56\n",
      "sample efficiency = 1.06\n",
      "True log Z = 3.527\n",
      "Estimated log Z = 4.5366 +- 0.0612\n"
     ]
    }
   ],
   "source": [
    "test_sampler(3, 3)"
   ]
  },
  {
   "cell_type": "code",
   "execution_count": 7,
   "id": "f769560c",
   "metadata": {},
   "outputs": [
    {
     "name": "stdout",
     "output_type": "stream",
     "text": [
      "Simulating model with 256 states\n",
      "perplexity = 51.3\n"
     ]
    },
    {
     "data": {
      "application/vnd.jupyter.widget-view+json": {
       "model_id": "3c93eb64a4fa4cedba1a078d32c61cc8",
       "version_major": 2,
       "version_minor": 0
      },
      "text/plain": [
       "  0%|          | 0/2000 [00:00<?, ?it/s]"
      ]
     },
     "metadata": {},
     "output_type": "display_data"
    },
    {
     "name": "stdout",
     "output_type": "stream",
     "text": [
      "acceptance rate = 0.492\n",
      "sample efficiency = 1.15\n",
      "True log Z = 8.2319\n",
      "Estimated log Z = 9.829 +- 0.0981\n"
     ]
    }
   ],
   "source": [
    "test_sampler(4, 4)"
   ]
  },
  {
   "cell_type": "code",
   "execution_count": 8,
   "id": "9034a988",
   "metadata": {},
   "outputs": [
    {
     "name": "stdout",
     "output_type": "stream",
     "text": [
      "Simulating model with 3125 states\n",
      "perplexity = 168.1\n"
     ]
    },
    {
     "data": {
      "application/vnd.jupyter.widget-view+json": {
       "model_id": "a951bb4798054dd1b068d7fe4a4732e9",
       "version_major": 2,
       "version_minor": 0
      },
      "text/plain": [
       "  0%|          | 0/2000 [00:00<?, ?it/s]"
      ]
     },
     "metadata": {},
     "output_type": "display_data"
    },
    {
     "name": "stdout",
     "output_type": "stream",
     "text": [
      "acceptance rate = 0.386\n",
      "sample efficiency = 0.865\n",
      "True log Z = 11.63\n",
      "Estimated log Z = 14.508 +- 0.215\n"
     ]
    }
   ],
   "source": [
    "test_sampler(5, 5)"
   ]
  },
  {
   "cell_type": "code",
   "execution_count": 9,
   "id": "5c669ea9",
   "metadata": {},
   "outputs": [
    {
     "name": "stdout",
     "output_type": "stream",
     "text": [
      "Simulating model with 59049 states\n",
      "perplexity = 132.2\n"
     ]
    },
    {
     "data": {
      "application/vnd.jupyter.widget-view+json": {
       "model_id": "9d5038142d204510b03e33753087d7be",
       "version_major": 2,
       "version_minor": 0
      },
      "text/plain": [
       "  0%|          | 0/2000 [00:00<?, ?it/s]"
      ]
     },
     "metadata": {},
     "output_type": "display_data"
    },
    {
     "name": "stdout",
     "output_type": "stream",
     "text": [
      "acceptance rate = 0.238\n",
      "sample efficiency = 1.37\n",
      "True log Z = 23.281\n",
      "Estimated log Z = 29.026 +- 0.33\n"
     ]
    }
   ],
   "source": [
    "test_sampler(10, 3)"
   ]
  },
  {
   "cell_type": "code",
   "execution_count": 10,
   "id": "055bfb96",
   "metadata": {},
   "outputs": [
    {
     "name": "stdout",
     "output_type": "stream",
     "text": [
      "Simulating model with 160000 states\n",
      "perplexity = 15026.9\n"
     ]
    },
    {
     "data": {
      "application/vnd.jupyter.widget-view+json": {
       "model_id": "2b6eb66148ac499aa9072e47383669bc",
       "version_major": 2,
       "version_minor": 0
      },
      "text/plain": [
       "  0%|          | 0/2000 [00:00<?, ?it/s]"
      ]
     },
     "metadata": {},
     "output_type": "display_data"
    },
    {
     "name": "stdout",
     "output_type": "stream",
     "text": [
      "acceptance rate = 0.458\n",
      "sample efficiency = 1.03\n",
      "True log Z = 14.413\n",
      "Estimated log Z = 16.727 +- 0.293\n"
     ]
    }
   ],
   "source": [
    "test_sampler(4, 20)"
   ]
  },
  {
   "cell_type": "code",
   "execution_count": null,
   "id": "1b9252c0",
   "metadata": {},
   "outputs": [],
   "source": []
  }
 ],
 "metadata": {
  "kernelspec": {
   "display_name": "Python 3 (ipykernel)",
   "language": "python",
   "name": "python3"
  },
  "language_info": {
   "codemirror_mode": {
    "name": "ipython",
    "version": 3
   },
   "file_extension": ".py",
   "mimetype": "text/x-python",
   "name": "python",
   "nbconvert_exporter": "python",
   "pygments_lexer": "ipython3",
   "version": "3.8.11"
  }
 },
 "nbformat": 4,
 "nbformat_minor": 5
}
