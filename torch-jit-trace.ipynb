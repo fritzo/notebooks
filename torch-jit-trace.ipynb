{
 "cells": [
  {
   "cell_type": "code",
   "execution_count": 1,
   "id": "6d183128",
   "metadata": {
    "scrolled": true
   },
   "outputs": [
    {
     "name": "stdout",
     "output_type": "stream",
     "text": [
      "1.12.0\n"
     ]
    }
   ],
   "source": [
    "from typing import Tuple, List\n",
    "import torch\n",
    "print(torch.__version__)"
   ]
  },
  {
   "cell_type": "code",
   "execution_count": 2,
   "id": "925d9f8e",
   "metadata": {
    "scrolled": false
   },
   "outputs": [
    {
     "name": "stdout",
     "output_type": "stream",
     "text": [
      "Help on function trace in module torch.jit._trace:\n",
      "\n",
      "trace(func, example_inputs, optimize=None, check_trace=True, check_inputs=None, check_tolerance=1e-05, strict=True, _force_outplace=False, _module_class=None, _compilation_unit=<torch.jit.CompilationUnit object at 0x107e2eeb0>)\n",
      "    Trace a function and return an executable  or :class:`ScriptFunction`\n",
      "    that will be optimized using just-in-time compilation. Tracing is ideal for\n",
      "    code that operates only on ``Tensor``\\s and lists, dictionaries, and\n",
      "    tuples of ``Tensor``\\s.\n",
      "    \n",
      "    Using `torch.jit.trace` and `torch.jit.trace_module`, you can turn an\n",
      "    existing module or Python function into a TorchScript\n",
      "    :class:`ScriptFunction` or :class:`ScriptModule`. You must provide example\n",
      "    inputs, and we run the function, recording the operations performed on all\n",
      "    the tensors.\n",
      "    \n",
      "    * The resulting recording of a standalone function produces `ScriptFunction`.\n",
      "    * The resulting recording of `nn.Module.forward` or `nn.Module` produces\n",
      "      `ScriptModule`.\n",
      "    \n",
      "    This module also contains any parameters that the original\n",
      "    module had as well.\n",
      "    \n",
      "    Warning:\n",
      "        Tracing only correctly records functions and modules which are not data\n",
      "        dependent (e.g., do not have conditionals on data in tensors) and do not have\n",
      "        any untracked external dependencies (e.g., perform input/output or\n",
      "        access global variables). Tracing only records operations done when the given\n",
      "        function is run on the given tensors. Therefore, the returned\n",
      "        `ScriptModule` will always run the same traced graph on any input. This\n",
      "        has some important implications when your module is expected to run\n",
      "        different sets of operations, depending on the input and/or the module\n",
      "        state. For example,\n",
      "    \n",
      "        * Tracing will not record any control-flow like if-statements or loops.\n",
      "          When this control-flow is constant across your module, this is fine\n",
      "          and it often inlines the control-flow decisions. But sometimes the\n",
      "          control-flow is actually part of the model itself. For instance, a\n",
      "          recurrent network is a loop over the (possibly dynamic) length of an\n",
      "          input sequence.\n",
      "        * In the returned :class:`ScriptModule`, operations that have different\n",
      "          behaviors in ``training`` and ``eval`` modes will always behave as if\n",
      "          it is in the mode it was in during tracing, no matter which mode the\n",
      "          `ScriptModule` is in.\n",
      "    \n",
      "        In cases like these, tracing would not be appropriate and\n",
      "        :func:`scripting <torch.jit.script>` is a better choice. If you trace\n",
      "        such models, you may silently get incorrect results on subsequent\n",
      "        invocations of the model. The tracer will try to emit warnings when\n",
      "        doing something that may cause an incorrect trace to be produced.\n",
      "    \n",
      "    Args:\n",
      "        func (callable or torch.nn.Module):  A Python function or `torch.nn.Module`\n",
      "            that will be run with `example_inputs`. `func` arguments and return\n",
      "            values  must be tensors or (possibly nested) tuples that contain\n",
      "            tensors. When a module is passed `torch.jit.trace`, only the\n",
      "            ``forward`` method is run and traced (see :func:`torch.jit.trace\n",
      "            <torch.jit.trace_module>` for details).\n",
      "        example_inputs (tuple or torch.Tensor):  A tuple of example inputs that\n",
      "            will be passed to the function while tracing. The resulting trace\n",
      "            can be run with inputs of different types and shapes assuming the\n",
      "            traced operations support those types and shapes. `example_inputs`\n",
      "            may also be a single Tensor in which case it is automatically\n",
      "            wrapped in a tuple.\n",
      "    \n",
      "    Keyword arguments:\n",
      "        check_trace (``bool``, optional): Check if the same inputs run through\n",
      "            traced code produce the same outputs. Default: ``True``. You might want\n",
      "            to disable this if, for example, your network contains non-\n",
      "            deterministic ops or if you are sure that the network is correct despite\n",
      "            a checker failure.\n",
      "    \n",
      "        check_inputs (list of tuples, optional): A list of tuples of input\n",
      "            arguments that should be used to check the trace against what is\n",
      "            expected. Each tuple is equivalent to a set of input arguments that\n",
      "            would be specified in ``example_inputs``. For best results, pass in\n",
      "            a set of checking inputs representative of the space of shapes and\n",
      "            types of inputs you expect the network to see.  If not specified,\n",
      "            the original ``example_inputs`` are used for checking\n",
      "        check_tolerance (float, optional): Floating-point comparison tolerance\n",
      "            to use in the checker procedure.  This can be used to relax the\n",
      "            checker strictness in the event that results diverge numerically\n",
      "            for a known reason, such as operator fusion.\n",
      "        strict (``bool``, optional): run the tracer in a strict mode or not\n",
      "            (default: ``True``). Only turn this off when you want the tracer to\n",
      "            record your mutable container types (currently ``list``/``dict``)\n",
      "            and you are sure that the container you are using in your\n",
      "            problem is a ``constant`` structure and does not get used as\n",
      "            control flow (if, for) conditions.\n",
      "    \n",
      "    Returns:\n",
      "        If `func` is `nn.Module` or ``forward`` of `nn.Module`, `trace` returns\n",
      "        a :class:`ScriptModule` object with a single ``forward`` method\n",
      "        containing the traced code.  The returned `ScriptModule` will\n",
      "        have the same set of sub-modules and parameters as the original\n",
      "        ``nn.Module``.  If ``func`` is a standalone function, ``trace``\n",
      "        returns `ScriptFunction`.\n",
      "    \n",
      "    Example (tracing a function):\n",
      "    \n",
      "    .. testcode::\n",
      "    \n",
      "        import torch\n",
      "    \n",
      "        def foo(x, y):\n",
      "            return 2 * x + y\n",
      "    \n",
      "        # Run `foo` with the provided inputs and record the tensor operations\n",
      "        traced_foo = torch.jit.trace(foo, (torch.rand(3), torch.rand(3)))\n",
      "    \n",
      "        # `traced_foo` can now be run with the TorchScript interpreter or saved\n",
      "        # and loaded in a Python-free environment\n",
      "    \n",
      "    Example (tracing an existing module)::\n",
      "    \n",
      "        import torch\n",
      "        import torch.nn as nn\n",
      "    \n",
      "        class Net(nn.Module):\n",
      "            def __init__(self):\n",
      "                super(Net, self).__init__()\n",
      "                self.conv = nn.Conv2d(1, 1, 3)\n",
      "    \n",
      "            def forward(self, x):\n",
      "                return self.conv(x)\n",
      "    \n",
      "        n = Net()\n",
      "        example_weight = torch.rand(1, 1, 3, 3)\n",
      "        example_forward_input = torch.rand(1, 1, 3, 3)\n",
      "    \n",
      "        # Trace a specific method and construct `ScriptModule` with\n",
      "        # a single `forward` method\n",
      "        module = torch.jit.trace(n.forward, example_forward_input)\n",
      "    \n",
      "        # Trace a module (implicitly traces `forward`) and construct a\n",
      "        # `ScriptModule` with a single `forward` method\n",
      "        module = torch.jit.trace(n, example_forward_input)\n",
      "\n"
     ]
    }
   ],
   "source": [
    "help(torch.jit.trace)"
   ]
  },
  {
   "cell_type": "markdown",
   "id": "7f679574",
   "metadata": {},
   "source": [
    "## What may jit.trace'd functions return?"
   ]
  },
  {
   "cell_type": "code",
   "execution_count": 3,
   "id": "b24a6ff6",
   "metadata": {},
   "outputs": [
    {
     "name": "stdout",
     "output_type": "stream",
     "text": [
      "tensor([[ 2.4703, -0.8157, -0.8774],\n",
      "        [-0.2866,  0.2650,  1.1512],\n",
      "        [ 2.9069,  1.1078,  3.0025]])\n",
      "tensor([[ 2.4703, -0.8157, -0.8774],\n",
      "        [-0.2866,  0.2650,  1.1512],\n",
      "        [ 2.9069,  1.1078,  3.0025]])\n"
     ]
    }
   ],
   "source": [
    "def f1(x: torch.Tensor) -> torch.Tensor:\n",
    "    return x + x\n",
    "\n",
    "x1 = torch.randn(3,3)\n",
    "f1_jit = torch.jit.trace(f1, (x1,))\n",
    "\n",
    "print(f1(x1))\n",
    "print(f1_jit(x1))"
   ]
  },
  {
   "cell_type": "code",
   "execution_count": 4,
   "id": "5c7234fe",
   "metadata": {},
   "outputs": [
    {
     "name": "stdout",
     "output_type": "stream",
     "text": [
      "(tensor([ 0.0477, -0.5120, -2.1070]), tensor([-0.3899, -0.9568, -0.5551]))\n",
      "(tensor([ 0.0477, -0.5120, -2.1070]), tensor([-0.3899, -0.9568, -0.5551]))\n"
     ]
    }
   ],
   "source": [
    "def f2(x: torch.Tensor) -> Tuple[torch.Tensor, ...]:\n",
    "    return x[0], x[1]\n",
    "\n",
    "x2 = torch.randn(3,3)\n",
    "f2_jit = torch.jit.trace(f2, (x2,))\n",
    "\n",
    "print(f2(x2))\n",
    "print(f2_jit(x2))"
   ]
  },
  {
   "cell_type": "code",
   "execution_count": 5,
   "id": "a8da4dfe",
   "metadata": {},
   "outputs": [
    {
     "name": "stdout",
     "output_type": "stream",
     "text": [
      "[tensor([-0.0988, -1.0435,  0.7074]), tensor([-1.6033,  0.7339, -1.5101])]\n",
      "[tensor([-0.0988, -1.0435,  0.7074]), tensor([-1.6033,  0.7339, -1.5101])]\n"
     ]
    },
    {
     "name": "stderr",
     "output_type": "stream",
     "text": [
      "/Users/fobermeyer/miniconda3/envs/gb39/lib/python3.9/site-packages/torch/jit/_trace.py:795: TracerWarning: Encountering a list at the output of the tracer might cause the trace to be incorrect, this is only valid if the container structure does not change based on the module's inputs. Consider using a constant container instead (e.g. for `list`, use a `tuple` instead. for `dict`, use a `NamedTuple` instead). If you absolutely need this and know the side effects, pass strict=False to trace() to allow this behavior.\n",
      "  traced = torch._C._create_function_from_trace(\n"
     ]
    }
   ],
   "source": [
    "def f3(x: torch.Tensor) -> List[torch.Tensor]:\n",
    "    return [x[0], x[1]]\n",
    "\n",
    "x3 = torch.randn(3,3)\n",
    "f3_jit = torch.jit.trace(f3, (x3,))\n",
    "\n",
    "print(f3(x3))\n",
    "print(f3_jit(x3))"
   ]
  },
  {
   "cell_type": "code",
   "execution_count": null,
   "id": "7d66d594",
   "metadata": {},
   "outputs": [],
   "source": []
  }
 ],
 "metadata": {
  "kernelspec": {
   "display_name": "Python 3 (ipykernel)",
   "language": "python",
   "name": "python3"
  },
  "language_info": {
   "codemirror_mode": {
    "name": "ipython",
    "version": 3
   },
   "file_extension": ".py",
   "mimetype": "text/x-python",
   "name": "python",
   "nbconvert_exporter": "python",
   "pygments_lexer": "ipython3",
   "version": "3.9.12"
  }
 },
 "nbformat": 4,
 "nbformat_minor": 5
}
